{
  "cells": [
    {
      "cell_type": "code",
      "execution_count": null,
      "metadata": {
        "id": "Av7JzAXu6nmc"
      },
      "outputs": [],
      "source": [
        "# Import necessary packages\n",
        "import pandas as pd\n",
        "import numpy as np\n",
        "import matplotlib.pyplot as plt\n",
        "import seaborn as sns\n",
        "import plotly.express as px\n",
        "import datetime\n",
        "from datetime import datetime\n",
        "import math\n",
        "from scipy.stats import mannwhitneyu\n",
        "from itertools import combinations\n",
        "import scipy"
      ]
    },
    {
      "cell_type": "code",
      "execution_count": null,
      "metadata": {
        "id": "llSlsAzY1qa1"
      },
      "outputs": [],
      "source": [
        "# Code to read csv file into Colaboratory:\n",
        "!pip install -U -q PyDrive\n",
        "from pydrive.auth import GoogleAuth\n",
        "from pydrive.drive import GoogleDrive\n",
        "from google.colab import auth\n",
        "from oauth2client.client import GoogleCredentials\n",
        "# Authenticate and create the PyDrive client.\n",
        "auth.authenticate_user()\n",
        "gauth = GoogleAuth()\n",
        "gauth.credentials = GoogleCredentials.get_application_default()\n",
        "drive = GoogleDrive(gauth)"
      ]
    },
    {
      "cell_type": "markdown",
      "metadata": {
        "id": "n_4m2CFkG-k-"
      },
      "source": [
        "The data used for this project is represents Indonesia's trending YouTube videos, containing of 148,149 rows across 27 columns. Each row represents a distinct video whereas each row contains that video's characteristic. Firstly, we look at the first five rows of the data in order to to gain familiarity with the data. "
      ]
    },
    {
      "cell_type": "code",
      "execution_count": null,
      "metadata": {
        "colab": {
          "base_uri": "https://localhost:8080/",
          "height": 612
        },
        "id": "47hwQKgA2RDd",
        "outputId": "a5b0f670-65ac-4c80-b520-e63b124498fb"
      },
      "outputs": [
        {
          "output_type": "stream",
          "name": "stderr",
          "text": [
            "<ipython-input-3-3a5bac5aa143>:9: DtypeWarning: Columns (0,5) have mixed types. Specify dtype option on import or set low_memory=False.\n",
            "  df = pd.read_csv('trending.csv')\n"
          ]
        },
        {
          "output_type": "display_data",
          "data": {
            "text/plain": [
              "  video_id          publish_time                channel_id  \\\n",
              "0      NaN  2021-02-05T09:00:34Z  UCEf_Bc-KVd7onSeifS3py9g   \n",
              "1      NaN  2021-02-04T15:54:08Z  UCYEa4_MC7OFjcWrO6SO-u8g   \n",
              "2      NaN  2021-02-06T03:00:22Z  UCu12RxQjRQyh79YBYvEDkOg   \n",
              "3      NaN  2021-02-05T20:26:08Z  UCCuzDCoI3EUOo_nhCj4noSw   \n",
              "4      NaN  2021-02-03T23:14:54Z  UC14UlmYlSNiQCBe9Eookf_A   \n",
              "\n",
              "                                               title  \\\n",
              "0                        aespa 에스파 'Forever (약속)' MV   \n",
              "1  [FULL] Siapa di Balik Kudeta AHY? | Dua Sisi t...   \n",
              "2     CABRIOLET CHALLENGE: TANTANGAN MENGGODA (7/12)   \n",
              "3                        With Windah Basudara & Hans   \n",
              "4  🤯 LATE COMEBACK DRAMA! | HIGHLIGHTS | Granada ...   \n",
              "\n",
              "                                         description thumbnail_url  \\\n",
              "0  aespa's new single \"Forever\" is out!\\nListen a...           NaN   \n",
              "1  Jakarta, https://www.tvonenews.com - Ketua umu...           NaN   \n",
              "2  Road Party Season 2: Cabriolet Challenge\\n\\nEp...           NaN   \n",
              "3  Join this channel to get access to perks:\\nhtt...           NaN   \n",
              "4  With just two minutes to play, Barça looked to...           NaN   \n",
              "\n",
              "   thumbnail_width  thumbnail_height            channel_name  \\\n",
              "0              NaN               NaN                  SMTOWN   \n",
              "1              NaN               NaN  Indonesia Lawyers Club   \n",
              "2              NaN               NaN                Motomobi   \n",
              "3              NaN               NaN                      yb   \n",
              "4              NaN               NaN            FC Barcelona   \n",
              "\n",
              "                                                tags  ...  caption  \\\n",
              "0                                                NaN  ...     True   \n",
              "1  ['tvone', 'tv one', 'tvonenews', 'indonesia la...  ...    False   \n",
              "2  ['MotoMobi', 'Mobil', 'motor', 'review', 'indo...  ...    False   \n",
              "3                                                NaN  ...    False   \n",
              "4  ['FC Barcelona', 'برشلونة،', 'Fútbol', 'FUTBOL...  ...    False   \n",
              "\n",
              "  license_status allowed_region blocked_region       view      like  dislike  \\\n",
              "0           True            NaN            NaN  7806846.0  857902.0  24078.0   \n",
              "1           True            NaN            NaN   885038.0    6765.0   1263.0   \n",
              "2           True            NaN            NaN   889708.0   47895.0    532.0   \n",
              "3           True            NaN            NaN  1006854.0   91973.0   3967.0   \n",
              "4           True            NaN            NaN  6275035.0  218131.0   4289.0   \n",
              "\n",
              "   favorite  comment                     trending_time  \n",
              "0         0  94961.0  2021-02-07 05:46:51.832614+00:00  \n",
              "1         0   6365.0  2021-02-07 05:46:51.832649+00:00  \n",
              "2         0   8785.0  2021-02-07 05:46:51.832664+00:00  \n",
              "3         0  12957.0  2021-02-07 05:46:51.832678+00:00  \n",
              "4         0  12799.0  2021-02-07 05:46:51.832730+00:00  \n",
              "\n",
              "[5 rows x 27 columns]"
            ],
            "text/html": [
              "\n",
              "  <div id=\"df-ba46e22e-1122-4a5d-8624-af7237fe3875\">\n",
              "    <div class=\"colab-df-container\">\n",
              "      <div>\n",
              "<style scoped>\n",
              "    .dataframe tbody tr th:only-of-type {\n",
              "        vertical-align: middle;\n",
              "    }\n",
              "\n",
              "    .dataframe tbody tr th {\n",
              "        vertical-align: top;\n",
              "    }\n",
              "\n",
              "    .dataframe thead th {\n",
              "        text-align: right;\n",
              "    }\n",
              "</style>\n",
              "<table border=\"1\" class=\"dataframe\">\n",
              "  <thead>\n",
              "    <tr style=\"text-align: right;\">\n",
              "      <th></th>\n",
              "      <th>video_id</th>\n",
              "      <th>publish_time</th>\n",
              "      <th>channel_id</th>\n",
              "      <th>title</th>\n",
              "      <th>description</th>\n",
              "      <th>thumbnail_url</th>\n",
              "      <th>thumbnail_width</th>\n",
              "      <th>thumbnail_height</th>\n",
              "      <th>channel_name</th>\n",
              "      <th>tags</th>\n",
              "      <th>...</th>\n",
              "      <th>caption</th>\n",
              "      <th>license_status</th>\n",
              "      <th>allowed_region</th>\n",
              "      <th>blocked_region</th>\n",
              "      <th>view</th>\n",
              "      <th>like</th>\n",
              "      <th>dislike</th>\n",
              "      <th>favorite</th>\n",
              "      <th>comment</th>\n",
              "      <th>trending_time</th>\n",
              "    </tr>\n",
              "  </thead>\n",
              "  <tbody>\n",
              "    <tr>\n",
              "      <th>0</th>\n",
              "      <td>NaN</td>\n",
              "      <td>2021-02-05T09:00:34Z</td>\n",
              "      <td>UCEf_Bc-KVd7onSeifS3py9g</td>\n",
              "      <td>aespa 에스파 'Forever (약속)' MV</td>\n",
              "      <td>aespa's new single \"Forever\" is out!\\nListen a...</td>\n",
              "      <td>NaN</td>\n",
              "      <td>NaN</td>\n",
              "      <td>NaN</td>\n",
              "      <td>SMTOWN</td>\n",
              "      <td>NaN</td>\n",
              "      <td>...</td>\n",
              "      <td>True</td>\n",
              "      <td>True</td>\n",
              "      <td>NaN</td>\n",
              "      <td>NaN</td>\n",
              "      <td>7806846.0</td>\n",
              "      <td>857902.0</td>\n",
              "      <td>24078.0</td>\n",
              "      <td>0</td>\n",
              "      <td>94961.0</td>\n",
              "      <td>2021-02-07 05:46:51.832614+00:00</td>\n",
              "    </tr>\n",
              "    <tr>\n",
              "      <th>1</th>\n",
              "      <td>NaN</td>\n",
              "      <td>2021-02-04T15:54:08Z</td>\n",
              "      <td>UCYEa4_MC7OFjcWrO6SO-u8g</td>\n",
              "      <td>[FULL] Siapa di Balik Kudeta AHY? | Dua Sisi t...</td>\n",
              "      <td>Jakarta, https://www.tvonenews.com - Ketua umu...</td>\n",
              "      <td>NaN</td>\n",
              "      <td>NaN</td>\n",
              "      <td>NaN</td>\n",
              "      <td>Indonesia Lawyers Club</td>\n",
              "      <td>['tvone', 'tv one', 'tvonenews', 'indonesia la...</td>\n",
              "      <td>...</td>\n",
              "      <td>False</td>\n",
              "      <td>True</td>\n",
              "      <td>NaN</td>\n",
              "      <td>NaN</td>\n",
              "      <td>885038.0</td>\n",
              "      <td>6765.0</td>\n",
              "      <td>1263.0</td>\n",
              "      <td>0</td>\n",
              "      <td>6365.0</td>\n",
              "      <td>2021-02-07 05:46:51.832649+00:00</td>\n",
              "    </tr>\n",
              "    <tr>\n",
              "      <th>2</th>\n",
              "      <td>NaN</td>\n",
              "      <td>2021-02-06T03:00:22Z</td>\n",
              "      <td>UCu12RxQjRQyh79YBYvEDkOg</td>\n",
              "      <td>CABRIOLET CHALLENGE: TANTANGAN MENGGODA (7/12)</td>\n",
              "      <td>Road Party Season 2: Cabriolet Challenge\\n\\nEp...</td>\n",
              "      <td>NaN</td>\n",
              "      <td>NaN</td>\n",
              "      <td>NaN</td>\n",
              "      <td>Motomobi</td>\n",
              "      <td>['MotoMobi', 'Mobil', 'motor', 'review', 'indo...</td>\n",
              "      <td>...</td>\n",
              "      <td>False</td>\n",
              "      <td>True</td>\n",
              "      <td>NaN</td>\n",
              "      <td>NaN</td>\n",
              "      <td>889708.0</td>\n",
              "      <td>47895.0</td>\n",
              "      <td>532.0</td>\n",
              "      <td>0</td>\n",
              "      <td>8785.0</td>\n",
              "      <td>2021-02-07 05:46:51.832664+00:00</td>\n",
              "    </tr>\n",
              "    <tr>\n",
              "      <th>3</th>\n",
              "      <td>NaN</td>\n",
              "      <td>2021-02-05T20:26:08Z</td>\n",
              "      <td>UCCuzDCoI3EUOo_nhCj4noSw</td>\n",
              "      <td>With Windah Basudara &amp; Hans</td>\n",
              "      <td>Join this channel to get access to perks:\\nhtt...</td>\n",
              "      <td>NaN</td>\n",
              "      <td>NaN</td>\n",
              "      <td>NaN</td>\n",
              "      <td>yb</td>\n",
              "      <td>NaN</td>\n",
              "      <td>...</td>\n",
              "      <td>False</td>\n",
              "      <td>True</td>\n",
              "      <td>NaN</td>\n",
              "      <td>NaN</td>\n",
              "      <td>1006854.0</td>\n",
              "      <td>91973.0</td>\n",
              "      <td>3967.0</td>\n",
              "      <td>0</td>\n",
              "      <td>12957.0</td>\n",
              "      <td>2021-02-07 05:46:51.832678+00:00</td>\n",
              "    </tr>\n",
              "    <tr>\n",
              "      <th>4</th>\n",
              "      <td>NaN</td>\n",
              "      <td>2021-02-03T23:14:54Z</td>\n",
              "      <td>UC14UlmYlSNiQCBe9Eookf_A</td>\n",
              "      <td>🤯 LATE COMEBACK DRAMA! | HIGHLIGHTS | Granada ...</td>\n",
              "      <td>With just two minutes to play, Barça looked to...</td>\n",
              "      <td>NaN</td>\n",
              "      <td>NaN</td>\n",
              "      <td>NaN</td>\n",
              "      <td>FC Barcelona</td>\n",
              "      <td>['FC Barcelona', 'برشلونة،', 'Fútbol', 'FUTBOL...</td>\n",
              "      <td>...</td>\n",
              "      <td>False</td>\n",
              "      <td>True</td>\n",
              "      <td>NaN</td>\n",
              "      <td>NaN</td>\n",
              "      <td>6275035.0</td>\n",
              "      <td>218131.0</td>\n",
              "      <td>4289.0</td>\n",
              "      <td>0</td>\n",
              "      <td>12799.0</td>\n",
              "      <td>2021-02-07 05:46:51.832730+00:00</td>\n",
              "    </tr>\n",
              "  </tbody>\n",
              "</table>\n",
              "<p>5 rows × 27 columns</p>\n",
              "</div>\n",
              "      <button class=\"colab-df-convert\" onclick=\"convertToInteractive('df-ba46e22e-1122-4a5d-8624-af7237fe3875')\"\n",
              "              title=\"Convert this dataframe to an interactive table.\"\n",
              "              style=\"display:none;\">\n",
              "        \n",
              "  <svg xmlns=\"http://www.w3.org/2000/svg\" height=\"24px\"viewBox=\"0 0 24 24\"\n",
              "       width=\"24px\">\n",
              "    <path d=\"M0 0h24v24H0V0z\" fill=\"none\"/>\n",
              "    <path d=\"M18.56 5.44l.94 2.06.94-2.06 2.06-.94-2.06-.94-.94-2.06-.94 2.06-2.06.94zm-11 1L8.5 8.5l.94-2.06 2.06-.94-2.06-.94L8.5 2.5l-.94 2.06-2.06.94zm10 10l.94 2.06.94-2.06 2.06-.94-2.06-.94-.94-2.06-.94 2.06-2.06.94z\"/><path d=\"M17.41 7.96l-1.37-1.37c-.4-.4-.92-.59-1.43-.59-.52 0-1.04.2-1.43.59L10.3 9.45l-7.72 7.72c-.78.78-.78 2.05 0 2.83L4 21.41c.39.39.9.59 1.41.59.51 0 1.02-.2 1.41-.59l7.78-7.78 2.81-2.81c.8-.78.8-2.07 0-2.86zM5.41 20L4 18.59l7.72-7.72 1.47 1.35L5.41 20z\"/>\n",
              "  </svg>\n",
              "      </button>\n",
              "      \n",
              "  <style>\n",
              "    .colab-df-container {\n",
              "      display:flex;\n",
              "      flex-wrap:wrap;\n",
              "      gap: 12px;\n",
              "    }\n",
              "\n",
              "    .colab-df-convert {\n",
              "      background-color: #E8F0FE;\n",
              "      border: none;\n",
              "      border-radius: 50%;\n",
              "      cursor: pointer;\n",
              "      display: none;\n",
              "      fill: #1967D2;\n",
              "      height: 32px;\n",
              "      padding: 0 0 0 0;\n",
              "      width: 32px;\n",
              "    }\n",
              "\n",
              "    .colab-df-convert:hover {\n",
              "      background-color: #E2EBFA;\n",
              "      box-shadow: 0px 1px 2px rgba(60, 64, 67, 0.3), 0px 1px 3px 1px rgba(60, 64, 67, 0.15);\n",
              "      fill: #174EA6;\n",
              "    }\n",
              "\n",
              "    [theme=dark] .colab-df-convert {\n",
              "      background-color: #3B4455;\n",
              "      fill: #D2E3FC;\n",
              "    }\n",
              "\n",
              "    [theme=dark] .colab-df-convert:hover {\n",
              "      background-color: #434B5C;\n",
              "      box-shadow: 0px 1px 3px 1px rgba(0, 0, 0, 0.15);\n",
              "      filter: drop-shadow(0px 1px 2px rgba(0, 0, 0, 0.3));\n",
              "      fill: #FFFFFF;\n",
              "    }\n",
              "  </style>\n",
              "\n",
              "      <script>\n",
              "        const buttonEl =\n",
              "          document.querySelector('#df-ba46e22e-1122-4a5d-8624-af7237fe3875 button.colab-df-convert');\n",
              "        buttonEl.style.display =\n",
              "          google.colab.kernel.accessAllowed ? 'block' : 'none';\n",
              "\n",
              "        async function convertToInteractive(key) {\n",
              "          const element = document.querySelector('#df-ba46e22e-1122-4a5d-8624-af7237fe3875');\n",
              "          const dataTable =\n",
              "            await google.colab.kernel.invokeFunction('convertToInteractive',\n",
              "                                                     [key], {});\n",
              "          if (!dataTable) return;\n",
              "\n",
              "          const docLinkHtml = 'Like what you see? Visit the ' +\n",
              "            '<a target=\"_blank\" href=https://colab.research.google.com/notebooks/data_table.ipynb>data table notebook</a>'\n",
              "            + ' to learn more about interactive tables.';\n",
              "          element.innerHTML = '';\n",
              "          dataTable['output_type'] = 'display_data';\n",
              "          await google.colab.output.renderOutput(dataTable, element);\n",
              "          const docLink = document.createElement('div');\n",
              "          docLink.innerHTML = docLinkHtml;\n",
              "          element.appendChild(docLink);\n",
              "        }\n",
              "      </script>\n",
              "    </div>\n",
              "  </div>\n",
              "  "
            ]
          },
          "metadata": {}
        }
      ],
      "source": [
        "# Provide the link to share the file/folder located on Google Drive.\n",
        "link ='https://drive.google.com/file/d/1b23_N_uLP3SltdPy6L90iQO-silRCPlI/view?usp=share_link'\n",
        "# Extract the ID of the file\n",
        "id = link.split(\"/\")[-2]\n",
        "# Create and load the dataset\n",
        "downloaded = drive.CreateFile({'id':id})\n",
        "downloaded.GetContentFile('trending.csv') \n",
        "# Store the dataset in a dataframe\n",
        "df = pd.read_csv('trending.csv')\n",
        "display(df.head())"
      ]
    },
    {
      "cell_type": "markdown",
      "metadata": {
        "id": "uiCGW3uFOU2x"
      },
      "source": [
        "In doing this project, we would like to know several things, which are listed below.\n",
        "\n",
        "\n",
        "1.   Exploratory data analysis\n",
        "2.   How do the comments corelate to dislike and like count?\n",
        "3.   How do like, dislike, and comments differ from each other?\n",
        "4.   How do publish time of the video affect views and comments?\n",
        "5.   What is the average video duration?\n",
        "6.   On average, how long after uploading will the video be marked as trending?\n",
        "\n"
      ]
    },
    {
      "cell_type": "markdown",
      "metadata": {
        "id": "ziFDihaQgAx3"
      },
      "source": [
        "We make a copy dataframe for the raw dataframe."
      ]
    },
    {
      "cell_type": "markdown",
      "metadata": {
        "id": "HdH_xTwT9JCQ"
      },
      "source": [
        "## 1. Exploratory data analysis\n",
        "\n",
        "First, we perform exploratory data analysis to obtain a sense of what the data looks like. Exploratory data analysis is mainly used to observe initial trends or patterns of the data, where we plot figures and graphs that we think would be valuable information. EDA also helps to identify the quality of data, the distribution of data, and the presence of any outliers or missing values.\n"
      ]
    },
    {
      "cell_type": "markdown",
      "metadata": {
        "id": "JVye98n3RMRx"
      },
      "source": [
        "We use `df.info()` to get a concise summary of a DataFrame."
      ]
    },
    {
      "cell_type": "code",
      "execution_count": null,
      "metadata": {
        "colab": {
          "base_uri": "https://localhost:8080/"
        },
        "id": "iZlY330z9v5C",
        "outputId": "5dc7b191-8ba0-4d99-e2b0-1d4ed651aabd"
      },
      "outputs": [
        {
          "output_type": "stream",
          "name": "stdout",
          "text": [
            "<class 'pandas.core.frame.DataFrame'>\n",
            "RangeIndex: 148149 entries, 0 to 148148\n",
            "Data columns (total 27 columns):\n",
            " #   Column             Non-Null Count   Dtype  \n",
            "---  ------             --------------   -----  \n",
            " 0   video_id           95027 non-null   object \n",
            " 1   publish_time       148149 non-null  object \n",
            " 2   channel_id         148149 non-null  object \n",
            " 3   title              148149 non-null  object \n",
            " 4   description        142622 non-null  object \n",
            " 5   thumbnail_url      95027 non-null   object \n",
            " 6   thumbnail_width    95027 non-null   float64\n",
            " 7   thumbnail_height   95027 non-null   float64\n",
            " 8   channel_name       148149 non-null  object \n",
            " 9   tags               127609 non-null  object \n",
            " 10  category_id        148149 non-null  int64  \n",
            " 11  live_status        148149 non-null  object \n",
            " 12  local_title        148149 non-null  object \n",
            " 13  local_description  142622 non-null  object \n",
            " 14  duration           148149 non-null  object \n",
            " 15  dimension          148149 non-null  object \n",
            " 16  definition         148149 non-null  object \n",
            " 17  caption            148149 non-null  bool   \n",
            " 18  license_status     148149 non-null  bool   \n",
            " 19  allowed_region     5077 non-null    object \n",
            " 20  blocked_region     5621 non-null    object \n",
            " 21  view               148139 non-null  float64\n",
            " 22  like               147021 non-null  float64\n",
            " 23  dislike            53630 non-null   float64\n",
            " 24  favorite           148149 non-null  int64  \n",
            " 25  comment            147703 non-null  float64\n",
            " 26  trending_time      148149 non-null  object \n",
            "dtypes: bool(2), float64(6), int64(2), object(17)\n",
            "memory usage: 28.5+ MB\n"
          ]
        }
      ],
      "source": [
        " df.info()"
      ]
    },
    {
      "cell_type": "markdown",
      "metadata": {
        "id": "I_KLBHLuC2un"
      },
      "source": [
        "## 1.1. Description of the dataset column\n",
        "\n",
        "In here, we first describe the column definitions, thereby allowing us to gain a clear understanding of the variables present in the dataset. It helps us interpret the data correctly and know what each column represents. This understanding is crucial for making meaningful interpretations and drawing accurate conclusions from the data.\n",
        "\n",
        "*   `video_id`: The unique identifier for each video distinguished by id\n",
        "*   `publish_time`: The publish date and time of the video\n",
        "*   `channel_id`: The unique identifier of the channel that published the video\n",
        "*   `title`: The title of the video\n",
        "*   `description`: The description of the video\n",
        "*   `channel_name`: The name of the channel that published the video\n",
        "*   `tags`: The tags associated with the video\n",
        "*   `category_id`: The category identifier for the video\n",
        "*   `live_status`: Whether the video is live or not\n",
        "*   `local_title`: The localized title of the video\n",
        "*   `local_description`: The localized description of the video\n",
        "*   `duration`: The duration of the video\n",
        "*   `dimension`: The dimension of the video\n",
        "*   `definition`: The definition of the video\n",
        "*   `caption`: Whether the video has caption or not\n",
        "*   `license_status`: Whether the video has a license or not\n",
        "*   `allowed_region`: The region where the video is allowed to be viewed\n",
        "*   `blocked_region`: The region where the video is blocked from being viewed\n",
        "*   `view`: The number of views the video has received\n",
        "*   `like`: The number of likes the video has received\n",
        "*   `dislike`: The number of dislikes the video has received\n",
        "*   `favorite`: The number of times the video has been added to a favorite list\n",
        "*   `comment`: The number of comments the video has received\n",
        "*   `trending_time`: The date and time the video became trending\n",
        "*   `title_sentiment`: The sentiment score of the video title"
      ]
    },
    {
      "cell_type": "markdown",
      "source": [
        "## 1.3. Null Values Handling\n",
        "\n",
        "Firstly, we check the extent of missing values to assess data quality, handle missing data, ensure proper preprocessing, maintain analysis integrity, and be aware of data completeness. It helps evaluate the reliability of the dataset, determine appropriate strategies for missing data, and prevent biases in analysis."
      ],
      "metadata": {
        "id": "hXKuZhwBVYI8"
      }
    },
    {
      "cell_type": "code",
      "execution_count": null,
      "metadata": {
        "colab": {
          "base_uri": "https://localhost:8080/"
        },
        "id": "5wcmV1Ai9vwG",
        "outputId": "e3aed56e-d86f-4473-cb00-33024da34e0e"
      },
      "outputs": [
        {
          "output_type": "execute_result",
          "data": {
            "text/plain": [
              "video_id              53122\n",
              "publish_time              0\n",
              "channel_id                0\n",
              "title                     0\n",
              "description            5527\n",
              "thumbnail_url         53122\n",
              "thumbnail_width       53122\n",
              "thumbnail_height      53122\n",
              "channel_name              0\n",
              "tags                  20540\n",
              "category_id               0\n",
              "live_status               0\n",
              "local_title               0\n",
              "local_description      5527\n",
              "duration                  0\n",
              "dimension                 0\n",
              "definition                0\n",
              "caption                   0\n",
              "license_status            0\n",
              "allowed_region       143072\n",
              "blocked_region       142528\n",
              "view                     10\n",
              "like                   1128\n",
              "dislike               94519\n",
              "favorite                  0\n",
              "comment                 446\n",
              "trending_time             0\n",
              "dtype: int64"
            ]
          },
          "metadata": {},
          "execution_count": 5
        }
      ],
      "source": [
        "# Checking whether the data has missing or null values\n",
        "df.isna().sum()"
      ]
    },
    {
      "cell_type": "markdown",
      "metadata": {
        "id": "97oiymggWffm"
      },
      "source": [
        "For the `tags` and `local_description`, we can fill the null value with 'No Tags' and 'No Description' since it's possible for a trending video to not have a tags nor a description."
      ]
    },
    {
      "cell_type": "code",
      "execution_count": null,
      "metadata": {
        "id": "qGoZgDmvV8Ld"
      },
      "outputs": [],
      "source": [
        "# Fill the missing values so the accuracy of the analysis and lead to better insights.\n",
        "df['tags'] = df['tags'].fillna('No Tags')\n",
        "df['local_description'] = df['local_description'].fillna('No Description')"
      ]
    },
    {
      "cell_type": "markdown",
      "metadata": {
        "id": "MY8oFFaGVN6F"
      },
      "source": [
        "Same goes for the `allowed_region` and `blocked_region`. It's possible for a trending video to not have a certain allowed region or available in all country, so we fill the null value with 'All Region'"
      ]
    },
    {
      "cell_type": "code",
      "execution_count": null,
      "metadata": {
        "id": "iCNj1spw9vp6"
      },
      "outputs": [],
      "source": [
        "df['allowed_region'] = df['allowed_region'].fillna('All Region') \n",
        "df['blocked_region'] = df['blocked_region'].fillna('All Region')"
      ]
    },
    {
      "cell_type": "markdown",
      "metadata": {
        "id": "sRbw5fSCZE7P"
      },
      "source": [
        "Considering the data represents trending videos, it would not make sense to fill the data with zeros, and since the distribution of `view`, `like`, \n",
        "`dislike` and `comment` data is right-skewed, the median is often a better measure of central tendency than the mean. Therefore, we fill the missing value with median instead of the mean.\n",
        "\n",
        "Initially, we examine the histograms of the `view`, `like`, `dislike`, and `comment` columns.\n",
        "\n",
        "### 1.3.1. Views"
      ]
    },
    {
      "cell_type": "code",
      "execution_count": null,
      "metadata": {
        "colab": {
          "base_uri": "https://localhost:8080/",
          "height": 448
        },
        "id": "_YXhRO6lF6M6",
        "outputId": "85c4759a-8dd8-4271-f02a-edcd5ecc6191"
      },
      "outputs": [
        {
          "output_type": "display_data",
          "data": {
            "text/plain": [
              "<Figure size 640x480 with 1 Axes>"
            ],
            "image/png": "[encoded data removed]"
          },
          "metadata": {}
        }
      ],
      "source": [
        "view = df[df['view'] < 15000000]\n",
        "\n",
        "plt.hist(view['view'],bins=50)\n",
        "plt.show()"
      ]
    },
    {
      "cell_type": "markdown",
      "source": [
        "From our histogram, results conform that the `view` column is right-skewed, thereby making it appropriate to fill the values with its median."
      ],
      "metadata": {
        "id": "kk_z2Cs5JwoS"
      }
    },
    {
      "cell_type": "code",
      "execution_count": null,
      "metadata": {
        "id": "bTkbrhAw9vjy"
      },
      "outputs": [],
      "source": [
        "df['view'] = df['view'].fillna(df['view'].median())"
      ]
    },
    {
      "cell_type": "markdown",
      "source": [
        "### 1.3.2. Likes Count\n",
        "\n",
        "Akin to the `Views` column, we render the histogram regarding the `like` column to gain a more representative visual understanding of its spread."
      ],
      "metadata": {
        "id": "k-GafWimJf9c"
      }
    },
    {
      "cell_type": "code",
      "execution_count": null,
      "metadata": {
        "colab": {
          "base_uri": "https://localhost:8080/",
          "height": 430
        },
        "id": "09HRdm2o9vFG",
        "outputId": "f4a7353e-fee6-4556-8621-cc06871eb8b5"
      },
      "outputs": [
        {
          "output_type": "display_data",
          "data": {
            "text/plain": [
              "<Figure size 640x480 with 1 Axes>"
            ],
            "image/png": "[encoded data removed]"
          },
          "metadata": {}
        }
      ],
      "source": [
        "like = df[df['like'] < 100000]\n",
        "\n",
        "plt.hist(like['like'],bins=50)\n",
        "plt.show()"
      ]
    },
    {
      "cell_type": "code",
      "execution_count": null,
      "metadata": {
        "id": "mRnLOwjZIe74"
      },
      "outputs": [],
      "source": [
        "df['like'] = df['like'].fillna(df['like'].median())"
      ]
    },
    {
      "cell_type": "markdown",
      "source": [
        "### 1.3.3. Dislikes Count\n",
        "\n",
        "Similar to the previous two columns, we generate a histogram for the `dislike` column to gain a more comprehensive visual understanding of its distribution."
      ],
      "metadata": {
        "id": "2XUKG6jpKGqm"
      }
    },
    {
      "cell_type": "code",
      "execution_count": null,
      "metadata": {
        "colab": {
          "base_uri": "https://localhost:8080/",
          "height": 430
        },
        "id": "7UkoY5ntIkc-",
        "outputId": "8b2fe2ad-6493-4f17-c554-5d76c229de4b"
      },
      "outputs": [
        {
          "output_type": "display_data",
          "data": {
            "text/plain": [
              "<Figure size 640x480 with 1 Axes>"
            ],
            "image/png": "[encoded data removed]"
          },
          "metadata": {}
        }
      ],
      "source": [
        "dislike = df[df['dislike'] < 1000]\n",
        "\n",
        "plt.hist(dislike['dislike'],bins=50)\n",
        "plt.show()"
      ]
    },
    {
      "cell_type": "code",
      "execution_count": null,
      "metadata": {
        "id": "XU3BEX01IuqK"
      },
      "outputs": [],
      "source": [
        "df['dislike'] = df['dislike'].fillna(df['dislike'].median())"
      ]
    },
    {
      "cell_type": "markdown",
      "source": [
        "### 1.3.4. Comments Count\n",
        "\n",
        "Finally, we render a histogram for the `comment` column to confirm whether our suspicions regarding right-skewed data is true."
      ],
      "metadata": {
        "id": "VSeAB2VeK-FO"
      }
    },
    {
      "cell_type": "code",
      "execution_count": null,
      "metadata": {
        "colab": {
          "base_uri": "https://localhost:8080/",
          "height": 430
        },
        "id": "Z7wk7324JAai",
        "outputId": "a4e070d1-91c8-46f8-93ed-f7b42cc964eb"
      },
      "outputs": [
        {
          "output_type": "display_data",
          "data": {
            "text/plain": [
              "<Figure size 640x480 with 1 Axes>"
            ],
            "image/png": "[encoded data removed]"
          },
          "metadata": {}
        }
      ],
      "source": [
        "comment = df[df['comment'] < 10000]\n",
        "\n",
        "plt.hist(comment['comment'],bins=50)\n",
        "plt.show()"
      ]
    },
    {
      "cell_type": "markdown",
      "source": [
        "We now understand the data is indeed right-skewed, hence filling them with median is the appropriate course of action."
      ],
      "metadata": {
        "id": "IxLAm2vSLGvq"
      }
    },
    {
      "cell_type": "code",
      "execution_count": null,
      "metadata": {
        "id": "PkfGRSs-JUfZ"
      },
      "outputs": [],
      "source": [
        "df['comment'] = df['comment'].fillna(df['comment'].median())"
      ]
    },
    {
      "cell_type": "markdown",
      "metadata": {
        "id": "lJ7r7vvwVELl"
      },
      "source": [
        "### 1.4. Datetime Parsing\n",
        "\n",
        "It is common to have date and time data stored as strings or objects. As in this case, it is necessary to convert these strings or objects to a datetime format to perform operations such as sorting, filtering, or arithmetic calculations.\n",
        "\n",
        "Initially, we examine the string pattern to determine the format required for its conversion into a datetime representation."
      ]
    },
    {
      "cell_type": "code",
      "execution_count": null,
      "metadata": {
        "colab": {
          "base_uri": "https://localhost:8080/"
        },
        "id": "3uJWXb-2U7He",
        "outputId": "808c7719-d744-4da3-cd00-ea3a877f632f"
      },
      "outputs": [
        {
          "output_type": "execute_result",
          "data": {
            "text/plain": [
              "0         2021-02-05T09:00:34Z\n",
              "1         2021-02-04T15:54:08Z\n",
              "2         2021-02-06T03:00:22Z\n",
              "3         2021-02-05T20:26:08Z\n",
              "4         2021-02-03T23:14:54Z\n",
              "                  ...         \n",
              "148144    2023-04-02T06:11:43Z\n",
              "148145    2023-03-31T11:30:10Z\n",
              "148146    2023-04-01T07:59:57Z\n",
              "148147    2023-03-31T00:00:12Z\n",
              "148148    2023-04-02T10:00:19Z\n",
              "Name: publish_time, Length: 148149, dtype: object"
            ]
          },
          "metadata": {},
          "execution_count": 16
        }
      ],
      "source": [
        "df['publish_time']"
      ]
    },
    {
      "cell_type": "markdown",
      "metadata": {
        "id": "eGk_kLngS1iJ"
      },
      "source": [
        "The `publish_time` timestamp is in [Zulu](https://www.techtarget.com/whatis/definition/Zulu-Zulu-time) format (military name for UTC).\n",
        "\n",
        "We use `datetime.strptime()` method to convert the `publish_time` into a `datetime64` format, using a list comprehension."
      ]
    },
    {
      "cell_type": "code",
      "execution_count": null,
      "metadata": {
        "colab": {
          "base_uri": "https://localhost:8080/"
        },
        "id": "p4IsohGWaXZ0",
        "outputId": "61ad626c-1317-4c7d-af76-d1b8e2a21e4d"
      },
      "outputs": [
        {
          "output_type": "execute_result",
          "data": {
            "text/plain": [
              "0        2021-02-05 09:00:34\n",
              "1        2021-02-04 15:54:08\n",
              "2        2021-02-06 03:00:22\n",
              "3        2021-02-05 20:26:08\n",
              "4        2021-02-03 23:14:54\n",
              "                 ...        \n",
              "148144   2023-04-02 06:11:43\n",
              "148145   2023-03-31 11:30:10\n",
              "148146   2023-04-01 07:59:57\n",
              "148147   2023-03-31 00:00:12\n",
              "148148   2023-04-02 10:00:19\n",
              "Name: publish_time, Length: 148149, dtype: datetime64[ns]"
            ]
          },
          "metadata": {},
          "execution_count": 17
        }
      ],
      "source": [
        "df['publish_time'] = [datetime.strptime(str(i), '%Y-%m-%dT%H:%M:%SZ') for i in df['publish_time']]\n",
        "df['publish_time']"
      ]
    },
    {
      "cell_type": "markdown",
      "metadata": {
        "id": "PkTghiFr9ZMi"
      },
      "source": [
        "Another datetime column in our data pertains to the column `trending_time`. For this, we can instantly use `pd.to_datetime()` to convert the `trending_time` into a datetime64 format.\n"
      ]
    },
    {
      "cell_type": "code",
      "execution_count": null,
      "metadata": {
        "colab": {
          "base_uri": "https://localhost:8080/"
        },
        "id": "SuryynI-XYxT",
        "outputId": "666b950d-84ff-4f2f-db98-e704fc9fa88c"
      },
      "outputs": [
        {
          "output_type": "execute_result",
          "data": {
            "text/plain": [
              "0        2021-02-07 05:46:51.832614+00:00\n",
              "1        2021-02-07 05:46:51.832649+00:00\n",
              "2        2021-02-07 05:46:51.832664+00:00\n",
              "3        2021-02-07 05:46:51.832678+00:00\n",
              "4        2021-02-07 05:46:51.832730+00:00\n",
              "                       ...               \n",
              "148144   2023-04-18 06:04:24.338378+00:00\n",
              "148145   2023-04-18 06:04:24.338388+00:00\n",
              "148146   2023-04-18 06:04:24.338398+00:00\n",
              "148147   2023-04-18 06:04:24.338408+00:00\n",
              "148148   2023-04-18 06:04:24.338700+00:00\n",
              "Name: trending_time, Length: 148149, dtype: datetime64[ns, UTC]"
            ]
          },
          "metadata": {},
          "execution_count": 18
        }
      ],
      "source": [
        "df['trending_time'] = pd.to_datetime(df['trending_time'])\n",
        "df['trending_time']"
      ]
    },
    {
      "cell_type": "markdown",
      "metadata": {
        "id": "ZbkodA-ZMUHQ"
      },
      "source": [
        "Subsequently, in order to construct a Correlation Matrix matrix for Pearson Analysis, certain adjustments need to be made to certain columns to ensure their inclusion. The first column to process is `definition`, where we label-encoded the column since it only has 2 different values."
      ]
    },
    {
      "cell_type": "code",
      "execution_count": null,
      "metadata": {
        "colab": {
          "base_uri": "https://localhost:8080/"
        },
        "id": "Rj7eK2owMK9B",
        "outputId": "7bd790ec-2d4d-4770-ad1c-80d90ced5985"
      },
      "outputs": [
        {
          "output_type": "execute_result",
          "data": {
            "text/plain": [
              "hd    147545\n",
              "sd       604\n",
              "Name: definition, dtype: int64"
            ]
          },
          "metadata": {},
          "execution_count": 19
        }
      ],
      "source": [
        "df['definition'].value_counts()"
      ]
    },
    {
      "cell_type": "code",
      "execution_count": null,
      "metadata": {
        "id": "fo8hDa9XLlYJ"
      },
      "outputs": [],
      "source": [
        "definition_dict = {'hd':1, 'sd':0}\n",
        " \n",
        "# Map to a column\n",
        "df['definition'] =df['definition'].map(definition_dict)"
      ]
    },
    {
      "cell_type": "markdown",
      "metadata": {
        "id": "NcAsXcJC0-gP"
      },
      "source": [
        "To generate a correlation matrix with numeric values only, a list comprehension was thereby employed to calculate the count of `blocked_region` occurrences per video. This approach allows us to obtain the necessary numeric data for constructing the correlation matrix."
      ]
    },
    {
      "cell_type": "code",
      "execution_count": null,
      "metadata": {
        "id": "LpExBb9JiE2l"
      },
      "outputs": [],
      "source": [
        "df['blocked_region'] = [0 if i == 'All Region' else len(i) for i in df['blocked_region']] \n",
        "\n",
        "# Verify results\n",
        "# We can use `assert` so that it raises an exception if df['blocked_region'] was not successfully type-casted into integers.\n",
        "assert isinstance(df['blocked_region'].sum(), (int, np.integer))"
      ]
    },
    {
      "cell_type": "markdown",
      "metadata": {
        "id": "r9CHQqpBPEfS"
      },
      "source": [
        "Then we check if there is any numeric column that contains the same value in the entire dataset"
      ]
    },
    {
      "cell_type": "code",
      "execution_count": null,
      "metadata": {
        "colab": {
          "base_uri": "https://localhost:8080/"
        },
        "id": "r8ZaSsp0IWYm",
        "outputId": "f05a63bc-e2eb-4b0a-a972-4348b7ae8584"
      },
      "outputs": [
        {
          "output_type": "stream",
          "name": "stdout",
          "text": [
            "0    148149\n",
            "Name: favorite, dtype: int64\n",
            "480.0    95027\n",
            "Name: thumbnail_width, dtype: int64\n",
            "360.0    95027\n",
            "Name: thumbnail_height, dtype: int64\n"
          ]
        }
      ],
      "source": [
        "print(df.favorite.value_counts())\n",
        "print(df.thumbnail_width.value_counts())\n",
        "print(df.thumbnail_height.value_counts())"
      ]
    },
    {
      "cell_type": "markdown",
      "metadata": {
        "id": "MZqw-XCwA4ET"
      },
      "source": [
        "We drop columns that are not needed such as `thumbnail_url` since is unique for all videos also `thumbnail_width`, `thumbnail_height` and `favorite` and since they has the same value throughout the data, and hence would not convey anything."
      ]
    },
    {
      "cell_type": "code",
      "execution_count": null,
      "metadata": {
        "id": "rVxY2WeEmEnx"
      },
      "outputs": [],
      "source": [
        "df = df.drop(['thumbnail_url','thumbnail_width', 'thumbnail_height','favorite'], axis=1) "
      ]
    },
    {
      "cell_type": "markdown",
      "metadata": {
        "id": "ha2l_sIQP4Zr"
      },
      "source": [
        "For `category_id` we notice that the `dtypes` is `int` not category, so to proceed, we must convert the integer type to a category type."
      ]
    },
    {
      "cell_type": "code",
      "execution_count": null,
      "metadata": {
        "id": "H_mXvv1EGE_a"
      },
      "outputs": [],
      "source": [
        "df['category_id'] = df['category_id'].astype('category')"
      ]
    },
    {
      "cell_type": "markdown",
      "metadata": {
        "id": "NWmiVeKcYNF5"
      },
      "source": [
        "Regarding the `category_id`, we encode the ID to a new column `category` to facilitate understanding of each category. This `category_dict` was sourced from the accompanying JSON file within the [Kaggle page](https://www.kaggle.com/datasets/syahrulhamdani/indonesias-trending-youtube-video-statistics?datasetId=1143485&sortBy=dateRun&tab=profile&select=category.json)"
      ]
    },
    {
      "cell_type": "code",
      "execution_count": null,
      "metadata": {
        "id": "QMPcLyXmrfgN"
      },
      "outputs": [],
      "source": [
        "category_dict = {1:'Film & Animation',\n",
        "                  2:'Autos & Vehicles',\n",
        "                  10:'Music',\n",
        "                  15 :'Pets & Animals',\n",
        "                  17:'Sports',\n",
        "                  18:'Short Movies',\n",
        "                  19:'Travel & Events',\n",
        "                  20:'Gaming',\n",
        "                  21:'Videoblogging',\n",
        "                  22 :'People & Blogs',\n",
        "                  23:'Comedy',\n",
        "                  24:'Entertainment',\n",
        "                  25:'News & Politics',\n",
        "                  26 :'Howto & Style',\n",
        "                  27:'Education',\n",
        "                  28:'Science & Technology',\n",
        "                  30:'Movie',\n",
        "                  31:'Anime/Animation',\n",
        "                  32:'Action/Adventure',\n",
        "                  33:'Classics',\n",
        "                  34:'Comedy',\n",
        "                  35:'Documentary',\n",
        "                  36:'Drama',\n",
        "                  37:'Family',\n",
        "                  38:'Foreign',\n",
        "                  39:'Horror',\n",
        "                  40:'Sci-Fi/Fantasy',\n",
        "                  41:'Thriller',\n",
        "                  42:'Shorts',\n",
        "                  43:'Shows',\n",
        "                  44:'Trailers'}\n",
        " \n",
        "# map to a column\n",
        "df['category'] = df['category_id'].map(category_dict)"
      ]
    },
    {
      "cell_type": "markdown",
      "source": [
        "Next, we can call `value_counts()` in `df['category']` to profie the data and gain a better understanding of the range and spread of values within each category."
      ],
      "metadata": {
        "id": "ypEQvDtRQYSJ"
      }
    },
    {
      "cell_type": "code",
      "execution_count": null,
      "metadata": {
        "colab": {
          "base_uri": "https://localhost:8080/"
        },
        "id": "AddNiWwXs3lo",
        "outputId": "2c41371f-ffba-4e32-ba40-c5b4c5323b58"
      },
      "outputs": [
        {
          "output_type": "execute_result",
          "data": {
            "text/plain": [
              "Entertainment           42022\n",
              "Music                   35583\n",
              "People & Blogs          16886\n",
              "Gaming                  13174\n",
              "Sports                  12601\n",
              "News & Politics          7368\n",
              "Film & Animation         4936\n",
              "Comedy                   4545\n",
              "Autos & Vehicles         3460\n",
              "Howto & Style            2201\n",
              "Science & Technology     1807\n",
              "Education                1144\n",
              "Pets & Animals           1060\n",
              "Travel & Events           898\n",
              "Name: category, dtype: int64"
            ]
          },
          "metadata": {},
          "execution_count": 26
        }
      ],
      "source": [
        "df['category'].value_counts()"
      ]
    },
    {
      "cell_type": "markdown",
      "metadata": {
        "id": "mbjJnFhi7Z3P"
      },
      "source": [
        "To identify a better proportion apart from numbers, we create a pie chart that accurately represented the distribution of category IDs in the dataset."
      ]
    },
    {
      "cell_type": "code",
      "execution_count": null,
      "metadata": {
        "colab": {
          "base_uri": "https://localhost:8080/",
          "height": 542
        },
        "id": "ZxHPGoIAX0Mi",
        "outputId": "bc33ae2c-6ee7-4f8c-a68c-2c0f24300857"
      },
      "outputs": [
        {
          "output_type": "display_data",
          "data": {
            "text/html": [
              "<html>\n",
              "<head><meta charset=\"utf-8\" /></head>\n",
              "<body>\n",
              "    <div>            <script src=\"https://cdnjs.cloudflare.com/ajax/libs/mathjax/2.7.5/MathJax.js?config=TeX-AMS-MML_SVG\"></script><script type=\"text/javascript\">if (window.MathJax && window.MathJax.Hub && window.MathJax.Hub.Config) {window.MathJax.Hub.Config({SVG: {font: \"STIX-Web\"}});}</script>                <script type=\"text/javascript\">window.PlotlyConfig = {MathJaxConfig: 'local'};</script>\n",
              "        <script src=\"https://cdn.plot.ly/plotly-2.18.2.min.js\"></script>                <div id=\"579b9e7e-a681-481e-8df9-97ce1bf9469e\" class=\"plotly-graph-div\" style=\"height:525px; width:100%;\"></div>            <script type=\"text/javascript\">                                    window.PLOTLYENV=window.PLOTLYENV || {};                                    if (document.getElementById(\"579b9e7e-a681-481e-8df9-97ce1bf9469e\")) {                    Plotly.newPlot(                        \"579b9e7e-a681-481e-8df9-97ce1bf9469e\",                        [{\"domain\":{\"x\":[0.0,1.0],\"y\":[0.0,1.0]},\"hovertemplate\":\"label=%{label}<br>value=%{value}<extra></extra>\",\"labels\":[\"Entertainment\",\"Music\",\"People & Blogs\",\"Gaming\",\"Sports\",\"News & Politics\",\"Film & Animation\",\"Comedy\",\"Autos & Vehicles\",\"Howto & Style\",\"Science & Technology\",\"Education\",\"Pets & Animals\",\"Travel & Events\"],\"legendgroup\":\"\",\"name\":\"\",\"showlegend\":true,\"values\":[42022,35583,16886,13174,12601,7368,4936,4545,3460,2201,1807,1144,1060,898],\"type\":\"pie\"}],                        {\"template\":{\"data\":{\"histogram2dcontour\":[{\"type\":\"histogram2dcontour\",\"colorbar\":{\"outlinewidth\":0,\"ticks\":\"\"},\"colorscale\":[[0.0,\"#0d0887\"],[0.1111111111111111,\"#46039f\"],[0.2222222222222222,\"#7201a8\"],[0.3333333333333333,\"#9c179e\"],[0.4444444444444444,\"#bd3786\"],[0.5555555555555556,\"#d8576b\"],[0.6666666666666666,\"#ed7953\"],[0.7777777777777778,\"#fb9f3a\"],[0.8888888888888888,\"#fdca26\"],[1.0,\"#f0f921\"]]}],\"choropleth\":[{\"type\":\"choropleth\",\"colorbar\":{\"outlinewidth\":0,\"ticks\":\"\"}}],\"histogram2d\":[{\"type\":\"histogram2d\",\"colorbar\":{\"outlinewidth\":0,\"ticks\":\"\"},\"colorscale\":[[0.0,\"#0d0887\"],[0.1111111111111111,\"#46039f\"],[0.2222222222222222,\"#7201a8\"],[0.3333333333333333,\"#9c179e\"],[0.4444444444444444,\"#bd3786\"],[0.5555555555555556,\"#d8576b\"],[0.6666666666666666,\"#ed7953\"],[0.7777777777777778,\"#fb9f3a\"],[0.8888888888888888,\"#fdca26\"],[1.0,\"#f0f921\"]]}],\"heatmap\":[{\"type\":\"heatmap\",\"colorbar\":{\"outlinewidth\":0,\"ticks\":\"\"},\"colorscale\":[[0.0,\"#0d0887\"],[0.1111111111111111,\"#46039f\"],[0.2222222222222222,\"#7201a8\"],[0.3333333333333333,\"#9c179e\"],[0.4444444444444444,\"#bd3786\"],[0.5555555555555556,\"#d8576b\"],[0.6666666666666666,\"#ed7953\"],[0.7777777777777778,\"#fb9f3a\"],[0.8888888888888888,\"#fdca26\"],[1.0,\"#f0f921\"]]}],\"heatmapgl\":[{\"type\":\"heatmapgl\",\"colorbar\":{\"outlinewidth\":0,\"ticks\":\"\"},\"colorscale\":[[0.0,\"#0d0887\"],[0.1111111111111111,\"#46039f\"],[0.2222222222222222,\"#7201a8\"],[0.3333333333333333,\"#9c179e\"],[0.4444444444444444,\"#bd3786\"],[0.5555555555555556,\"#d8576b\"],[0.6666666666666666,\"#ed7953\"],[0.7777777777777778,\"#fb9f3a\"],[0.8888888888888888,\"#fdca26\"],[1.0,\"#f0f921\"]]}],\"contourcarpet\":[{\"type\":\"contourcarpet\",\"colorbar\":{\"outlinewidth\":0,\"ticks\":\"\"}}],\"contour\":[{\"type\":\"contour\",\"colorbar\":{\"outlinewidth\":0,\"ticks\":\"\"},\"colorscale\":[[0.0,\"#0d0887\"],[0.1111111111111111,\"#46039f\"],[0.2222222222222222,\"#7201a8\"],[0.3333333333333333,\"#9c179e\"],[0.4444444444444444,\"#bd3786\"],[0.5555555555555556,\"#d8576b\"],[0.6666666666666666,\"#ed7953\"],[0.7777777777777778,\"#fb9f3a\"],[0.8888888888888888,\"#fdca26\"],[1.0,\"#f0f921\"]]}],\"surface\":[{\"type\":\"surface\",\"colorbar\":{\"outlinewidth\":0,\"ticks\":\"\"},\"colorscale\":[[0.0,\"#0d0887\"],[0.1111111111111111,\"#46039f\"],[0.2222222222222222,\"#7201a8\"],[0.3333333333333333,\"#9c179e\"],[0.4444444444444444,\"#bd3786\"],[0.5555555555555556,\"#d8576b\"],[0.6666666666666666,\"#ed7953\"],[0.7777777777777778,\"#fb9f3a\"],[0.8888888888888888,\"#fdca26\"],[1.0,\"#f0f921\"]]}],\"mesh3d\":[{\"type\":\"mesh3d\",\"colorbar\":{\"outlinewidth\":0,\"ticks\":\"\"}}],\"scatter\":[{\"fillpattern\":{\"fillmode\":\"overlay\",\"size\":10,\"solidity\":0.2},\"type\":\"scatter\"}],\"parcoords\":[{\"type\":\"parcoords\",\"line\":{\"colorbar\":{\"outlinewidth\":0,\"ticks\":\"\"}}}],\"scatterpolargl\":[{\"type\":\"scatterpolargl\",\"marker\":{\"colorbar\":{\"outlinewidth\":0,\"ticks\":\"\"}}}],\"bar\":[{\"error_x\":{\"color\":\"#2a3f5f\"},\"error_y\":{\"color\":\"#2a3f5f\"},\"marker\":{\"line\":{\"color\":\"#E5ECF6\",\"width\":0.5},\"pattern\":{\"fillmode\":\"overlay\",\"size\":10,\"solidity\":0.2}},\"type\":\"bar\"}],\"scattergeo\":[{\"type\":\"scattergeo\",\"marker\":{\"colorbar\":{\"outlinewidth\":0,\"ticks\":\"\"}}}],\"scatterpolar\":[{\"type\":\"scatterpolar\",\"marker\":{\"colorbar\":{\"outlinewidth\":0,\"ticks\":\"\"}}}],\"histogram\":[{\"marker\":{\"pattern\":{\"fillmode\":\"overlay\",\"size\":10,\"solidity\":0.2}},\"type\":\"histogram\"}],\"scattergl\":[{\"type\":\"scattergl\",\"marker\":{\"colorbar\":{\"outlinewidth\":0,\"ticks\":\"\"}}}],\"scatter3d\":[{\"type\":\"scatter3d\",\"line\":{\"colorbar\":{\"outlinewidth\":0,\"ticks\":\"\"}},\"marker\":{\"colorbar\":{\"outlinewidth\":0,\"ticks\":\"\"}}}],\"scattermapbox\":[{\"type\":\"scattermapbox\",\"marker\":{\"colorbar\":{\"outlinewidth\":0,\"ticks\":\"\"}}}],\"scatterternary\":[{\"type\":\"scatterternary\",\"marker\":{\"colorbar\":{\"outlinewidth\":0,\"ticks\":\"\"}}}],\"scattercarpet\":[{\"type\":\"scattercarpet\",\"marker\":{\"colorbar\":{\"outlinewidth\":0,\"ticks\":\"\"}}}],\"carpet\":[{\"aaxis\":{\"endlinecolor\":\"#2a3f5f\",\"gridcolor\":\"white\",\"linecolor\":\"white\",\"minorgridcolor\":\"white\",\"startlinecolor\":\"#2a3f5f\"},\"baxis\":{\"endlinecolor\":\"#2a3f5f\",\"gridcolor\":\"white\",\"linecolor\":\"white\",\"minorgridcolor\":\"white\",\"startlinecolor\":\"#2a3f5f\"},\"type\":\"carpet\"}],\"table\":[{\"cells\":{\"fill\":{\"color\":\"#EBF0F8\"},\"line\":{\"color\":\"white\"}},\"header\":{\"fill\":{\"color\":\"#C8D4E3\"},\"line\":{\"color\":\"white\"}},\"type\":\"table\"}],\"barpolar\":[{\"marker\":{\"line\":{\"color\":\"#E5ECF6\",\"width\":0.5},\"pattern\":{\"fillmode\":\"overlay\",\"size\":10,\"solidity\":0.2}},\"type\":\"barpolar\"}],\"pie\":[{\"automargin\":true,\"type\":\"pie\"}]},\"layout\":{\"autotypenumbers\":\"strict\",\"colorway\":[\"#636efa\",\"#EF553B\",\"#00cc96\",\"#ab63fa\",\"#FFA15A\",\"#19d3f3\",\"#FF6692\",\"#B6E880\",\"#FF97FF\",\"#FECB52\"],\"font\":{\"color\":\"#2a3f5f\"},\"hovermode\":\"closest\",\"hoverlabel\":{\"align\":\"left\"},\"paper_bgcolor\":\"white\",\"plot_bgcolor\":\"#E5ECF6\",\"polar\":{\"bgcolor\":\"#E5ECF6\",\"angularaxis\":{\"gridcolor\":\"white\",\"linecolor\":\"white\",\"ticks\":\"\"},\"radialaxis\":{\"gridcolor\":\"white\",\"linecolor\":\"white\",\"ticks\":\"\"}},\"ternary\":{\"bgcolor\":\"#E5ECF6\",\"aaxis\":{\"gridcolor\":\"white\",\"linecolor\":\"white\",\"ticks\":\"\"},\"baxis\":{\"gridcolor\":\"white\",\"linecolor\":\"white\",\"ticks\":\"\"},\"caxis\":{\"gridcolor\":\"white\",\"linecolor\":\"white\",\"ticks\":\"\"}},\"coloraxis\":{\"colorbar\":{\"outlinewidth\":0,\"ticks\":\"\"}},\"colorscale\":{\"sequential\":[[0.0,\"#0d0887\"],[0.1111111111111111,\"#46039f\"],[0.2222222222222222,\"#7201a8\"],[0.3333333333333333,\"#9c179e\"],[0.4444444444444444,\"#bd3786\"],[0.5555555555555556,\"#d8576b\"],[0.6666666666666666,\"#ed7953\"],[0.7777777777777778,\"#fb9f3a\"],[0.8888888888888888,\"#fdca26\"],[1.0,\"#f0f921\"]],\"sequentialminus\":[[0.0,\"#0d0887\"],[0.1111111111111111,\"#46039f\"],[0.2222222222222222,\"#7201a8\"],[0.3333333333333333,\"#9c179e\"],[0.4444444444444444,\"#bd3786\"],[0.5555555555555556,\"#d8576b\"],[0.6666666666666666,\"#ed7953\"],[0.7777777777777778,\"#fb9f3a\"],[0.8888888888888888,\"#fdca26\"],[1.0,\"#f0f921\"]],\"diverging\":[[0,\"#8e0152\"],[0.1,\"#c51b7d\"],[0.2,\"#de77ae\"],[0.3,\"#f1b6da\"],[0.4,\"#fde0ef\"],[0.5,\"#f7f7f7\"],[0.6,\"#e6f5d0\"],[0.7,\"#b8e186\"],[0.8,\"#7fbc41\"],[0.9,\"#4d9221\"],[1,\"#276419\"]]},\"xaxis\":{\"gridcolor\":\"white\",\"linecolor\":\"white\",\"ticks\":\"\",\"title\":{\"standoff\":15},\"zerolinecolor\":\"white\",\"automargin\":true,\"zerolinewidth\":2},\"yaxis\":{\"gridcolor\":\"white\",\"linecolor\":\"white\",\"ticks\":\"\",\"title\":{\"standoff\":15},\"zerolinecolor\":\"white\",\"automargin\":true,\"zerolinewidth\":2},\"scene\":{\"xaxis\":{\"backgroundcolor\":\"#E5ECF6\",\"gridcolor\":\"white\",\"linecolor\":\"white\",\"showbackground\":true,\"ticks\":\"\",\"zerolinecolor\":\"white\",\"gridwidth\":2},\"yaxis\":{\"backgroundcolor\":\"#E5ECF6\",\"gridcolor\":\"white\",\"linecolor\":\"white\",\"showbackground\":true,\"ticks\":\"\",\"zerolinecolor\":\"white\",\"gridwidth\":2},\"zaxis\":{\"backgroundcolor\":\"#E5ECF6\",\"gridcolor\":\"white\",\"linecolor\":\"white\",\"showbackground\":true,\"ticks\":\"\",\"zerolinecolor\":\"white\",\"gridwidth\":2}},\"shapedefaults\":{\"line\":{\"color\":\"#2a3f5f\"}},\"annotationdefaults\":{\"arrowcolor\":\"#2a3f5f\",\"arrowhead\":0,\"arrowwidth\":1},\"geo\":{\"bgcolor\":\"white\",\"landcolor\":\"#E5ECF6\",\"subunitcolor\":\"white\",\"showland\":true,\"showlakes\":true,\"lakecolor\":\"white\"},\"title\":{\"x\":0.05},\"mapbox\":{\"style\":\"light\"}}},\"legend\":{\"tracegroupgap\":0},\"title\":{\"text\":\"Trending by category\"}},                        {\"responsive\": true}                    ).then(function(){\n",
              "                            \n",
              "var gd = document.getElementById('579b9e7e-a681-481e-8df9-97ce1bf9469e');\n",
              "var x = new MutationObserver(function (mutations, observer) {{\n",
              "        var display = window.getComputedStyle(gd).display;\n",
              "        if (!display || display === 'none') {{\n",
              "            console.log([gd, 'removed!']);\n",
              "            Plotly.purge(gd);\n",
              "            observer.disconnect();\n",
              "        }}\n",
              "}});\n",
              "\n",
              "// Listen for the removal of the full notebook cells\n",
              "var notebookContainer = gd.closest('#notebook-container');\n",
              "if (notebookContainer) {{\n",
              "    x.observe(notebookContainer, {childList: true});\n",
              "}}\n",
              "\n",
              "// Listen for the clearing of the current output cell\n",
              "var outputEl = gd.closest('.output');\n",
              "if (outputEl) {{\n",
              "    x.observe(outputEl, {childList: true});\n",
              "}}\n",
              "\n",
              "                        })                };                            </script>        </div>\n",
              "</body>\n",
              "</html>"
            ]
          },
          "metadata": {}
        }
      ],
      "source": [
        "ax = px.pie(df, names=df['category'].value_counts().index,values=df['category'].value_counts().values, title='Trending by category')\n",
        "ax.show()"
      ]
    },
    {
      "cell_type": "markdown",
      "metadata": {
        "id": "ZKNPRvLwYxRM"
      },
      "source": [
        "Same applies to `license_status`. We create a pie chart that accurately represented the distribution of license status in the dataset."
      ]
    },
    {
      "cell_type": "code",
      "execution_count": null,
      "metadata": {
        "colab": {
          "base_uri": "https://localhost:8080/",
          "height": 428
        },
        "id": "3OysnNw-mEsT",
        "outputId": "e1cf8d3c-8c02-49c9-a0fb-b11b6b11cffb"
      },
      "outputs": [
        {
          "output_type": "display_data",
          "data": {
            "text/plain": [
              "<Figure size 640x480 with 1 Axes>"
            ],
            "image/png": "[encoded data removed]"
          },
          "metadata": {}
        }
      ],
      "source": [
        "plt.pie(df['license_status'].value_counts().values, labels=df['license_status'].value_counts().index,autopct='%1.1f%%')\n",
        "plt.title('Video with license')\n",
        "plt.show()"
      ]
    },
    {
      "cell_type": "markdown",
      "source": [
        "Based on point number 2, when performing a Pearson's Correlation Analysis, it is preferable for the variables involved to exhibit a normal distribution. However, in contrast, when conducting a Mann-Whitney U test, it is necessary for the variables to be non-normally distributed. In this dataset, the raw data itself demonstrates a right-skewed distribution. Therefore, for the purpose of the Mann-Whitney U test, we will retain the non-normalized data."
      ],
      "metadata": {
        "id": "-9R6Zt4krYA2"
      }
    },
    {
      "cell_type": "code",
      "execution_count": null,
      "metadata": {
        "id": "OEZz8jtQjukf"
      },
      "outputs": [],
      "source": [
        "df_new = df.copy()"
      ]
    },
    {
      "cell_type": "markdown",
      "metadata": {
        "id": "xXIBtA_XnwFl"
      },
      "source": [
        "## 2. Pearson Correlation Analysis\n",
        "### How do the comments correlate to dislike and like counts?\n",
        "The first step is to calculate the Pearson correlation coefficient. The Pearson correlation coefficient measures the strength and direction of the linear relationship between two variables.\n",
        "\n",
        "One of the assumptions of the Pearson correlation analysis is that both variables should be normally distributed. From EDA, we know that this data is right-skewed, where it is now appropriate to harness the logarithmic transformation to normalise the data. The logarithmic transformation works by compressing its range and reducing the influence of extreme values. This transformation helps to approximate a normal or near-normal distribution for the log-transformed data."
      ]
    },
    {
      "cell_type": "code",
      "execution_count": null,
      "metadata": {
        "colab": {
          "base_uri": "https://localhost:8080/"
        },
        "id": "KQQK7mO2jIof",
        "outputId": "a4db3c22-1362-41ed-a5e8-965007ce5c1a"
      },
      "outputs": [
        {
          "output_type": "stream",
          "name": "stderr",
          "text": [
            "<ipython-input-30-8d29f4d3ad2a>:2: RuntimeWarning:\n",
            "\n",
            "divide by zero encountered in log\n",
            "\n",
            "<ipython-input-30-8d29f4d3ad2a>:3: RuntimeWarning:\n",
            "\n",
            "divide by zero encountered in log\n",
            "\n",
            "<ipython-input-30-8d29f4d3ad2a>:4: RuntimeWarning:\n",
            "\n",
            "divide by zero encountered in log\n",
            "\n"
          ]
        }
      ],
      "source": [
        "# Apply log normalization\n",
        "df['like'] = [np.log(i) for i in df['like']]\n",
        "df['dislike'] = [np.log(i) for i in df['dislike']]\n",
        "df['comment'] = [np.log(i) for i in df['comment']]\n",
        "# Uncomment to visualize the variable\n",
        "# plt.hist(df['like'],bins=50)\n",
        "# plt.show()\n",
        "\n",
        "# plt.hist(df['dislike'],bins=40)\n",
        "# plt.show()\n",
        "\n",
        "# plt.hist(df['comment'],bins=50)\n",
        "# plt.show()"
      ]
    },
    {
      "cell_type": "markdown",
      "source": [
        "After completing the data adjustment during the exploratory data analysis (EDA) phase, our next step is to construct a correlation matrix."
      ],
      "metadata": {
        "id": "EyarlLEkPASs"
      }
    },
    {
      "cell_type": "code",
      "source": [
        "# We use corr() function to find the correlation among the columns in the Dataframe using ‘pearson’ keyword argument. \n",
        "coef = df.corr(method='pearson', min_periods=1) "
      ],
      "metadata": {
        "colab": {
          "base_uri": "https://localhost:8080/"
        },
        "id": "5nokjJonOwH4",
        "outputId": "f3c8a34f-144d-4cc4-ca13-dad65d80db5e"
      },
      "execution_count": null,
      "outputs": [
        {
          "output_type": "stream",
          "name": "stderr",
          "text": [
            "<ipython-input-31-dcb2f6fb045c>:2: FutureWarning:\n",
            "\n",
            "The default value of numeric_only in DataFrame.corr is deprecated. In a future version, it will default to False. Select only valid columns or specify the value of numeric_only to silence this warning.\n",
            "\n"
          ]
        }
      ]
    },
    {
      "cell_type": "markdown",
      "source": [
        "Once the correlation matrix has been constructed, we can employ a heatmap to visually represent the correlations within the matrix."
      ],
      "metadata": {
        "id": "nrGTiV6WPGLn"
      }
    },
    {
      "cell_type": "code",
      "source": [
        "fig, ax = plt.subplots(figsize=(30,20))   \n",
        "sns.heatmap(df.corr(), ax = ax,annot=True)"
      ],
      "metadata": {
        "colab": {
          "base_uri": "https://localhost:8080/",
          "height": 1000
        },
        "id": "nHCRgQV8PFl4",
        "outputId": "f4de35a0-ca2e-49bc-aeb7-764e66ad7fdb"
      },
      "execution_count": null,
      "outputs": [
        {
          "output_type": "stream",
          "name": "stderr",
          "text": [
            "<ipython-input-61-738cd31e9b05>:2: FutureWarning:\n",
            "\n",
            "The default value of numeric_only in DataFrame.corr is deprecated. In a future version, it will default to False. Select only valid columns or specify the value of numeric_only to silence this warning.\n",
            "\n"
          ]
        },
        {
          "output_type": "execute_result",
          "data": {
            "text/plain": [
              "<Axes: >"
            ]
          },
          "metadata": {},
          "execution_count": 61
        },
        {
          "output_type": "display_data",
          "data": {
            "text/plain": [
              "<Figure size 3000x2000 with 2 Axes>"
            ],
            "image/png": "[encoded data removed]"
          },
          "metadata": {}
        }
      ]
    },
    {
      "cell_type": "markdown",
      "metadata": {
        "id": "eWX2sWEuoBbm"
      },
      "source": [
        "### Calculating t-score\n",
        "After calculating the Pearson correlation coefficient between two variables, the next step is to determine if the correlation is statistically significant. To do this, we need to calculate the t-score using the formula below.\n",
        "\n",
        "[t-score](https://www.statology.org/t-test-for-correlation/) = r√(n-2)/(1-r2)\n",
        "\n",
        "Where:\n",
        "\n",
        "*   r : correlation coefficient \n",
        "*   n : sample size\n"
      ]
    },
    {
      "cell_type": "code",
      "execution_count": null,
      "metadata": {
        "id": "8LAKljrLTTUv"
      },
      "outputs": [],
      "source": [
        "def t_score(coef):\n",
        "  return float(coef)*(math.sqrt((float(384)-float(2))/(1-(float(coef))**float(2))))"
      ]
    },
    {
      "cell_type": "code",
      "source": [
        "# We can reshape the correlation matrix and automatically calculate the  t-scores as to not do it manually\n",
        "coef_mask = coef.where(np.triu(np.ones(coef.shape)).astype(np.bool)) # Mask the correlation matrix so that no duplicates are found\n",
        "coef_mask = coef_mask.stack().reset_index() # Flatten a triangular-shaped correlation to represent a pairwise correlation\n",
        "coef_mask.columns = ['Var1', 'Var2', 'Coef'] # Rename columns"
      ],
      "metadata": {
        "colab": {
          "base_uri": "https://localhost:8080/"
        },
        "id": "WMyMTnF3Xp1V",
        "outputId": "1921ab68-c6e6-4291-e7e2-cd4fec023719"
      },
      "execution_count": null,
      "outputs": [
        {
          "output_type": "stream",
          "name": "stderr",
          "text": [
            "<ipython-input-34-b30ac1b93ebb>:2: DeprecationWarning:\n",
            "\n",
            "`np.bool` is a deprecated alias for the builtin `bool`. To silence this warning, use `bool` by itself. Doing this will not modify any behavior and is safe. If you specifically wanted the numpy scalar type, use `np.bool_` here.\n",
            "Deprecated in NumPy 1.20; for more details and guidance: https://numpy.org/devdocs/release/1.20.0-notes.html#deprecations\n",
            "\n"
          ]
        }
      ]
    },
    {
      "cell_type": "code",
      "source": [
        "coef_mask = coef_mask[coef_mask['Coef'] != 1] # Drop rows where coef is 1.0000\n",
        "coef_mask = coef_mask[(coef_mask['Var1'] == 'comment') | (coef_mask['Var1'] == 'like') | (coef_mask['Var1'] == 'dislike')]\n",
        "coef_mask['t-score'] = coef_mask['Coef'].apply(t_score)\n",
        "coef_mask"
      ],
      "metadata": {
        "colab": {
          "base_uri": "https://localhost:8080/",
          "height": 143
        },
        "id": "Ngds5k4tpl_B",
        "outputId": "bee35155-7a6c-4c56-b5aa-4e148dd4c23f"
      },
      "execution_count": null,
      "outputs": [
        {
          "output_type": "execute_result",
          "data": {
            "text/plain": [
              "       Var1     Var2      Coef    t-score\n",
              "31     like  dislike  0.529599  12.202711\n",
              "32     like  comment  0.751395  22.256323\n",
              "34  dislike  comment  0.362420   7.600131"
            ],
            "text/html": [
              "\n",
              "  <div id=\"df-a7057a86-017c-4671-b373-838494c386f7\">\n",
              "    <div class=\"colab-df-container\">\n",
              "      <div>\n",
              "<style scoped>\n",
              "    .dataframe tbody tr th:only-of-type {\n",
              "        vertical-align: middle;\n",
              "    }\n",
              "\n",
              "    .dataframe tbody tr th {\n",
              "        vertical-align: top;\n",
              "    }\n",
              "\n",
              "    .dataframe thead th {\n",
              "        text-align: right;\n",
              "    }\n",
              "</style>\n",
              "<table border=\"1\" class=\"dataframe\">\n",
              "  <thead>\n",
              "    <tr style=\"text-align: right;\">\n",
              "      <th></th>\n",
              "      <th>Var1</th>\n",
              "      <th>Var2</th>\n",
              "      <th>Coef</th>\n",
              "      <th>t-score</th>\n",
              "    </tr>\n",
              "  </thead>\n",
              "  <tbody>\n",
              "    <tr>\n",
              "      <th>31</th>\n",
              "      <td>like</td>\n",
              "      <td>dislike</td>\n",
              "      <td>0.529599</td>\n",
              "      <td>12.202711</td>\n",
              "    </tr>\n",
              "    <tr>\n",
              "      <th>32</th>\n",
              "      <td>like</td>\n",
              "      <td>comment</td>\n",
              "      <td>0.751395</td>\n",
              "      <td>22.256323</td>\n",
              "    </tr>\n",
              "    <tr>\n",
              "      <th>34</th>\n",
              "      <td>dislike</td>\n",
              "      <td>comment</td>\n",
              "      <td>0.362420</td>\n",
              "      <td>7.600131</td>\n",
              "    </tr>\n",
              "  </tbody>\n",
              "</table>\n",
              "</div>\n",
              "      <button class=\"colab-df-convert\" onclick=\"convertToInteractive('df-a7057a86-017c-4671-b373-838494c386f7')\"\n",
              "              title=\"Convert this dataframe to an interactive table.\"\n",
              "              style=\"display:none;\">\n",
              "        \n",
              "  <svg xmlns=\"http://www.w3.org/2000/svg\" height=\"24px\"viewBox=\"0 0 24 24\"\n",
              "       width=\"24px\">\n",
              "    <path d=\"M0 0h24v24H0V0z\" fill=\"none\"/>\n",
              "    <path d=\"M18.56 5.44l.94 2.06.94-2.06 2.06-.94-2.06-.94-.94-2.06-.94 2.06-2.06.94zm-11 1L8.5 8.5l.94-2.06 2.06-.94-2.06-.94L8.5 2.5l-.94 2.06-2.06.94zm10 10l.94 2.06.94-2.06 2.06-.94-2.06-.94-.94-2.06-.94 2.06-2.06.94z\"/><path d=\"M17.41 7.96l-1.37-1.37c-.4-.4-.92-.59-1.43-.59-.52 0-1.04.2-1.43.59L10.3 9.45l-7.72 7.72c-.78.78-.78 2.05 0 2.83L4 21.41c.39.39.9.59 1.41.59.51 0 1.02-.2 1.41-.59l7.78-7.78 2.81-2.81c.8-.78.8-2.07 0-2.86zM5.41 20L4 18.59l7.72-7.72 1.47 1.35L5.41 20z\"/>\n",
              "  </svg>\n",
              "      </button>\n",
              "      \n",
              "  <style>\n",
              "    .colab-df-container {\n",
              "      display:flex;\n",
              "      flex-wrap:wrap;\n",
              "      gap: 12px;\n",
              "    }\n",
              "\n",
              "    .colab-df-convert {\n",
              "      background-color: #E8F0FE;\n",
              "      border: none;\n",
              "      border-radius: 50%;\n",
              "      cursor: pointer;\n",
              "      display: none;\n",
              "      fill: #1967D2;\n",
              "      height: 32px;\n",
              "      padding: 0 0 0 0;\n",
              "      width: 32px;\n",
              "    }\n",
              "\n",
              "    .colab-df-convert:hover {\n",
              "      background-color: #E2EBFA;\n",
              "      box-shadow: 0px 1px 2px rgba(60, 64, 67, 0.3), 0px 1px 3px 1px rgba(60, 64, 67, 0.15);\n",
              "      fill: #174EA6;\n",
              "    }\n",
              "\n",
              "    [theme=dark] .colab-df-convert {\n",
              "      background-color: #3B4455;\n",
              "      fill: #D2E3FC;\n",
              "    }\n",
              "\n",
              "    [theme=dark] .colab-df-convert:hover {\n",
              "      background-color: #434B5C;\n",
              "      box-shadow: 0px 1px 3px 1px rgba(0, 0, 0, 0.15);\n",
              "      filter: drop-shadow(0px 1px 2px rgba(0, 0, 0, 0.3));\n",
              "      fill: #FFFFFF;\n",
              "    }\n",
              "  </style>\n",
              "\n",
              "      <script>\n",
              "        const buttonEl =\n",
              "          document.querySelector('#df-a7057a86-017c-4671-b373-838494c386f7 button.colab-df-convert');\n",
              "        buttonEl.style.display =\n",
              "          google.colab.kernel.accessAllowed ? 'block' : 'none';\n",
              "\n",
              "        async function convertToInteractive(key) {\n",
              "          const element = document.querySelector('#df-a7057a86-017c-4671-b373-838494c386f7');\n",
              "          const dataTable =\n",
              "            await google.colab.kernel.invokeFunction('convertToInteractive',\n",
              "                                                     [key], {});\n",
              "          if (!dataTable) return;\n",
              "\n",
              "          const docLinkHtml = 'Like what you see? Visit the ' +\n",
              "            '<a target=\"_blank\" href=https://colab.research.google.com/notebooks/data_table.ipynb>data table notebook</a>'\n",
              "            + ' to learn more about interactive tables.';\n",
              "          element.innerHTML = '';\n",
              "          dataTable['output_type'] = 'display_data';\n",
              "          await google.colab.output.renderOutput(dataTable, element);\n",
              "          const docLink = document.createElement('div');\n",
              "          docLink.innerHTML = docLinkHtml;\n",
              "          element.appendChild(docLink);\n",
              "        }\n",
              "      </script>\n",
              "    </div>\n",
              "  </div>\n",
              "  "
            ]
          },
          "metadata": {},
          "execution_count": 35
        }
      ]
    },
    {
      "cell_type": "markdown",
      "source": [
        "As we specifically intend to perform Pearson analysis solely on the `like`,`comment` and `dislike` columns, we proceed by parsing the dataframe to include only the required columns."
      ],
      "metadata": {
        "id": "_3710Wzppfh2"
      }
    },
    {
      "cell_type": "code",
      "execution_count": null,
      "metadata": {
        "colab": {
          "base_uri": "https://localhost:8080/"
        },
        "id": "2Rq4dXY-TTXB",
        "outputId": "dd6d9051-2b7d-47f6-e0a0-3d952966bc43"
      },
      "outputs": [
        {
          "output_type": "stream",
          "name": "stdout",
          "text": [
            "comment and like t-score is 22.256301707261763\n",
            "comment and dislike t-score is 7.600129451968456\n",
            "dislike and like t-score is 12.202699713188558\n"
          ]
        }
      ],
      "source": [
        "print('comment and like t-score is ' + str(t_score(.751395)))\n",
        "print('comment and dislike t-score is ' + str(t_score(.362420)))\n",
        "print('dislike and like t-score is ' + str(t_score(.529599)))"
      ]
    },
    {
      "cell_type": "markdown",
      "metadata": {
        "id": "gyJhIreLKkOr"
      },
      "source": [
        " ### Calculate each coefficients' p-value\n",
        "\n",
        " Once we have the t-score, we can find the corresponding p-value associated with a t-score using the `scipy.stats.t.sf()` with a significance level of 95% \n"
      ]
    },
    {
      "cell_type": "code",
      "source": [
        "# Similarly we can automatically compute the p-values from the previously-made `coef_mask`.\n",
        "def compute_pval(t_score):\n",
        "  return scipy.stats.t.sf(abs(t_score), 382)*2\n",
        "\n",
        "coef_mask['pval'] = coef_mask['t-score'].apply(compute_pval)\n",
        "coef_mask "
      ],
      "metadata": {
        "colab": {
          "base_uri": "https://localhost:8080/",
          "height": 143
        },
        "id": "kCpvBcx2UXVG",
        "outputId": "307c7cfc-4e72-4438-da9e-968d6bc8a7f9"
      },
      "execution_count": null,
      "outputs": [
        {
          "output_type": "execute_result",
          "data": {
            "text/plain": [
              "       Var1     Var2      Coef    t-score          pval\n",
              "31     like  dislike  0.529599  12.202711  3.797797e-29\n",
              "32     like  comment  0.751395  22.256323  5.788219e-71\n",
              "34  dislike  comment  0.362420   7.600131  2.310747e-13"
            ],
            "text/html": [
              "\n",
              "  <div id=\"df-6110cd10-2e5e-42cf-b018-1b08297e0191\">\n",
              "    <div class=\"colab-df-container\">\n",
              "      <div>\n",
              "<style scoped>\n",
              "    .dataframe tbody tr th:only-of-type {\n",
              "        vertical-align: middle;\n",
              "    }\n",
              "\n",
              "    .dataframe tbody tr th {\n",
              "        vertical-align: top;\n",
              "    }\n",
              "\n",
              "    .dataframe thead th {\n",
              "        text-align: right;\n",
              "    }\n",
              "</style>\n",
              "<table border=\"1\" class=\"dataframe\">\n",
              "  <thead>\n",
              "    <tr style=\"text-align: right;\">\n",
              "      <th></th>\n",
              "      <th>Var1</th>\n",
              "      <th>Var2</th>\n",
              "      <th>Coef</th>\n",
              "      <th>t-score</th>\n",
              "      <th>pval</th>\n",
              "    </tr>\n",
              "  </thead>\n",
              "  <tbody>\n",
              "    <tr>\n",
              "      <th>31</th>\n",
              "      <td>like</td>\n",
              "      <td>dislike</td>\n",
              "      <td>0.529599</td>\n",
              "      <td>12.202711</td>\n",
              "      <td>3.797797e-29</td>\n",
              "    </tr>\n",
              "    <tr>\n",
              "      <th>32</th>\n",
              "      <td>like</td>\n",
              "      <td>comment</td>\n",
              "      <td>0.751395</td>\n",
              "      <td>22.256323</td>\n",
              "      <td>5.788219e-71</td>\n",
              "    </tr>\n",
              "    <tr>\n",
              "      <th>34</th>\n",
              "      <td>dislike</td>\n",
              "      <td>comment</td>\n",
              "      <td>0.362420</td>\n",
              "      <td>7.600131</td>\n",
              "      <td>2.310747e-13</td>\n",
              "    </tr>\n",
              "  </tbody>\n",
              "</table>\n",
              "</div>\n",
              "      <button class=\"colab-df-convert\" onclick=\"convertToInteractive('df-6110cd10-2e5e-42cf-b018-1b08297e0191')\"\n",
              "              title=\"Convert this dataframe to an interactive table.\"\n",
              "              style=\"display:none;\">\n",
              "        \n",
              "  <svg xmlns=\"http://www.w3.org/2000/svg\" height=\"24px\"viewBox=\"0 0 24 24\"\n",
              "       width=\"24px\">\n",
              "    <path d=\"M0 0h24v24H0V0z\" fill=\"none\"/>\n",
              "    <path d=\"M18.56 5.44l.94 2.06.94-2.06 2.06-.94-2.06-.94-.94-2.06-.94 2.06-2.06.94zm-11 1L8.5 8.5l.94-2.06 2.06-.94-2.06-.94L8.5 2.5l-.94 2.06-2.06.94zm10 10l.94 2.06.94-2.06 2.06-.94-2.06-.94-.94-2.06-.94 2.06-2.06.94z\"/><path d=\"M17.41 7.96l-1.37-1.37c-.4-.4-.92-.59-1.43-.59-.52 0-1.04.2-1.43.59L10.3 9.45l-7.72 7.72c-.78.78-.78 2.05 0 2.83L4 21.41c.39.39.9.59 1.41.59.51 0 1.02-.2 1.41-.59l7.78-7.78 2.81-2.81c.8-.78.8-2.07 0-2.86zM5.41 20L4 18.59l7.72-7.72 1.47 1.35L5.41 20z\"/>\n",
              "  </svg>\n",
              "      </button>\n",
              "      \n",
              "  <style>\n",
              "    .colab-df-container {\n",
              "      display:flex;\n",
              "      flex-wrap:wrap;\n",
              "      gap: 12px;\n",
              "    }\n",
              "\n",
              "    .colab-df-convert {\n",
              "      background-color: #E8F0FE;\n",
              "      border: none;\n",
              "      border-radius: 50%;\n",
              "      cursor: pointer;\n",
              "      display: none;\n",
              "      fill: #1967D2;\n",
              "      height: 32px;\n",
              "      padding: 0 0 0 0;\n",
              "      width: 32px;\n",
              "    }\n",
              "\n",
              "    .colab-df-convert:hover {\n",
              "      background-color: #E2EBFA;\n",
              "      box-shadow: 0px 1px 2px rgba(60, 64, 67, 0.3), 0px 1px 3px 1px rgba(60, 64, 67, 0.15);\n",
              "      fill: #174EA6;\n",
              "    }\n",
              "\n",
              "    [theme=dark] .colab-df-convert {\n",
              "      background-color: #3B4455;\n",
              "      fill: #D2E3FC;\n",
              "    }\n",
              "\n",
              "    [theme=dark] .colab-df-convert:hover {\n",
              "      background-color: #434B5C;\n",
              "      box-shadow: 0px 1px 3px 1px rgba(0, 0, 0, 0.15);\n",
              "      filter: drop-shadow(0px 1px 2px rgba(0, 0, 0, 0.3));\n",
              "      fill: #FFFFFF;\n",
              "    }\n",
              "  </style>\n",
              "\n",
              "      <script>\n",
              "        const buttonEl =\n",
              "          document.querySelector('#df-6110cd10-2e5e-42cf-b018-1b08297e0191 button.colab-df-convert');\n",
              "        buttonEl.style.display =\n",
              "          google.colab.kernel.accessAllowed ? 'block' : 'none';\n",
              "\n",
              "        async function convertToInteractive(key) {\n",
              "          const element = document.querySelector('#df-6110cd10-2e5e-42cf-b018-1b08297e0191');\n",
              "          const dataTable =\n",
              "            await google.colab.kernel.invokeFunction('convertToInteractive',\n",
              "                                                     [key], {});\n",
              "          if (!dataTable) return;\n",
              "\n",
              "          const docLinkHtml = 'Like what you see? Visit the ' +\n",
              "            '<a target=\"_blank\" href=https://colab.research.google.com/notebooks/data_table.ipynb>data table notebook</a>'\n",
              "            + ' to learn more about interactive tables.';\n",
              "          element.innerHTML = '';\n",
              "          dataTable['output_type'] = 'display_data';\n",
              "          await google.colab.output.renderOutput(dataTable, element);\n",
              "          const docLink = document.createElement('div');\n",
              "          docLink.innerHTML = docLinkHtml;\n",
              "          element.appendChild(docLink);\n",
              "        }\n",
              "      </script>\n",
              "    </div>\n",
              "  </div>\n",
              "  "
            ]
          },
          "metadata": {},
          "execution_count": 37
        }
      ]
    },
    {
      "cell_type": "code",
      "execution_count": null,
      "metadata": {
        "id": "dOS_Y5yETTbM"
      },
      "outputs": [],
      "source": [
        "p1 = scipy.stats.t.sf(abs(t_score(.751395)), 382)*2\n",
        "p2 = scipy.stats.t.sf(abs(t_score(.362420)), 382)*2\n",
        "p3 = scipy.stats.t.sf(abs(t_score(.529599)), 382)*2"
      ]
    },
    {
      "cell_type": "code",
      "execution_count": null,
      "metadata": {
        "colab": {
          "base_uri": "https://localhost:8080/"
        },
        "id": "O4FOaVRCztMu",
        "outputId": "7cf9c81b-1b59-4a5a-f398-436a3b0b4656"
      },
      "outputs": [
        {
          "output_type": "stream",
          "name": "stdout",
          "text": [
            "P value for comment and like is 5.789421960080116e-71\n",
            "P value for comment and dislike is 2.3107679378681204e-13\n",
            "P value for dislike and like 3.798177831813624e-29\n"
          ]
        }
      ],
      "source": [
        "print('P value for comment and like is ' + str(p1))\n",
        "print('P value for comment and dislike is ' + str(p2))\n",
        "print('P value for dislike and like ' + str(p3))"
      ]
    },
    {
      "cell_type": "markdown",
      "metadata": {
        "id": "7ucN3laIdPFx"
      },
      "source": [
        "Based on the results we discovered that the highest correlation and the most significant factor is the number of comments and likes with 0.751395 correlation coefficient and 5.789421960080116 x 10^-71. p-value.\n"
      ]
    },
    {
      "cell_type": "markdown",
      "metadata": {
        "id": "JMWWtztPo30D"
      },
      "source": [
        "## 3. How do Like, Dislike, and Comments differ from each other?\n",
        "### Mann-Whitney U Test\n",
        ">  The Mann-Whitney U Test is a nonparametric test used to test whether two samples are likely to derive from the same population when the sample distributions are not normally distributed.\n",
        "\n",
        "The `scipy.stats.mannwhitneyu()` function in Python can be used to perform the Mann-Whitney U test.\n",
        "\n",
        "It is worth noting that the Mann-Whitney U test has the following null and alternate hypoteheses:\n",
        "\n",
        "* *Null hypothesis:* the two populations have identical distributions.\n",
        "* *Alternative hypothesis:* the two populations have different medians, but otherwise are identical."
      ]
    },
    {
      "cell_type": "code",
      "execution_count": null,
      "metadata": {
        "id": "fzUthbDU0FM5"
      },
      "outputs": [],
      "source": [
        "def MWU(data1,data2):\n",
        "  stat, p_value = mannwhitneyu(data1, data2)\n",
        "  print('Statistics=%.2f, p=%.2f' % (stat, p_value))\n",
        "  # We use level of significance = 95%\n",
        "  alpha = 0.05\n",
        "  # Conclusion\n",
        "  if p_value < alpha:\n",
        "      print('Reject Null Hypothesis (Significant difference between two samples)')\n",
        "  else:\n",
        "      print('Do not Reject Null Hypothesis (No significant difference between two samples)')"
      ]
    },
    {
      "cell_type": "markdown",
      "metadata": {
        "id": "qjST7SQ7kcqn"
      },
      "source": [
        "Considering Mann-Whitney U Test is a test that may be used when the sample not normally distributed, we therefore use the data before the normalization process, which was saved in `df_new`"
      ]
    },
    {
      "cell_type": "code",
      "execution_count": null,
      "metadata": {
        "colab": {
          "base_uri": "https://localhost:8080/"
        },
        "id": "8fiwbg5F0FPS",
        "outputId": "07f0fcf1-1c0a-4759-dbba-431edb8fa2b7"
      },
      "outputs": [
        {
          "output_type": "stream",
          "name": "stdout",
          "text": [
            "Statistics=2326481664.00, p=0.00\n",
            "Reject Null Hypothesis (Significant difference between two samples)\n",
            "Statistics=16176731155.50, p=0.00\n",
            "Reject Null Hypothesis (Significant difference between two samples)\n",
            "Statistics=559628412.50, p=0.00\n",
            "Reject Null Hypothesis (Significant difference between two samples)\n"
          ]
        }
      ],
      "source": [
        "mwu_1 = MWU(df_new['comment'],df_new['like'])\n",
        "mwu_2 = MWU(df_new['comment'],df_new['dislike'])\n",
        "mwu_3 = MWU(df_new['dislike'],df_new['like'])"
      ]
    },
    {
      "cell_type": "markdown",
      "source": [
        "Based on the above results, we have significant evidence that the null hypotheses can be rejected. That is, none of the comments, like, and dislike have identical distributions due to all tests returning 0 p-values. Conversely, we infer that they all come from differing distributions."
      ],
      "metadata": {
        "id": "N7_IjMFoWAvO"
      }
    },
    {
      "cell_type": "markdown",
      "metadata": {
        "id": "DXyRBoo4lwQu"
      },
      "source": [
        "##4. How do publish time of the video affect views and comments?\n",
        "First we want to look at the graph for `publish_time` and `view`."
      ]
    },
    {
      "cell_type": "code",
      "execution_count": null,
      "metadata": {
        "colab": {
          "base_uri": "https://localhost:8080/",
          "height": 488
        },
        "id": "jZHU32lUOUKP",
        "outputId": "43c7584b-7210-43c2-faba-7546fce7f66a"
      },
      "outputs": [
        {
          "output_type": "display_data",
          "data": {
            "text/plain": [
              "<Figure size 640x480 with 1 Axes>"
            ],
            "image/png": "[encoded data removed]"
          },
          "metadata": {}
        }
      ],
      "source": [
        "plt.plot(df['publish_time'],df['view'])\n",
        "plt.xlabel('Video\\'s Publish Time')\n",
        "plt.ylabel('Total Views')\n",
        "plt.xticks( rotation=25 )\n",
        "plt.show()"
      ]
    },
    {
      "cell_type": "markdown",
      "metadata": {
        "id": "rKQx_2Ctl6aG"
      },
      "source": [
        "Since we want to know whether a certain hour or day can yield more views, we pull the hour from `publish_time` and save it as `publish_time_hour`."
      ]
    },
    {
      "cell_type": "code",
      "execution_count": null,
      "metadata": {
        "id": "YA8uF28EQDHF"
      },
      "outputs": [],
      "source": [
        "df['publish_time_hour'] = [i.hour for i in df['publish_time']]"
      ]
    },
    {
      "cell_type": "markdown",
      "metadata": {
        "id": "tl5GkaeCmOcK"
      },
      "source": [
        "We employ the `groupby()` function to perform data aggregation, grouping the sum of views based on the hour."
      ]
    },
    {
      "cell_type": "code",
      "execution_count": null,
      "metadata": {
        "id": "B3GzhqsJQDI_"
      },
      "outputs": [],
      "source": [
        "view_per_hour = df.groupby('publish_time_hour')['view'].sum()"
      ]
    },
    {
      "cell_type": "markdown",
      "metadata": {
        "id": "fY387LW3m8ic"
      },
      "source": [
        "Subsequently, we generate a plot using the grouped data, allowing us to visualize the distribution of views across different hours and identify the hours that accumulate higher view counts."
      ]
    },
    {
      "cell_type": "code",
      "execution_count": null,
      "metadata": {
        "colab": {
          "base_uri": "https://localhost:8080/",
          "height": 452
        },
        "id": "BeriLh2xSqpu",
        "outputId": "09532407-eab1-46eb-ff1f-8a9457fb15ca"
      },
      "outputs": [
        {
          "output_type": "display_data",
          "data": {
            "text/plain": [
              "<Figure size 640x480 with 1 Axes>"
            ],
            "image/png": "[encoded data removed]"
          },
          "metadata": {}
        }
      ],
      "source": [
        "fig, ax = plt.subplots()\n",
        "ax.plot(view_per_hour)\n",
        "start, end = ax.get_xlim()\n",
        "ax.xaxis.set_ticks(np.arange(0, 24, 1))\n",
        "ax.set_title('Indonesia\\'s Trending YouTube Views per Hour')\n",
        "plt.show()"
      ]
    },
    {
      "cell_type": "markdown",
      "metadata": {
        "id": "YzajPG9-nbU3"
      },
      "source": [
        "Based on the observed graph, it is evident that videos uploaded at 9 A.M. consistently receive the highest number of views compared to other hours.\n",
        "\n",
        "To determine the highest views based on the day, we conducted a similar analysis by extracting the day from the `publish_time` and storing it as `publish_time_day`."
      ]
    },
    {
      "cell_type": "code",
      "execution_count": null,
      "metadata": {
        "colab": {
          "base_uri": "https://localhost:8080/"
        },
        "id": "ARqiwO30SqtR",
        "outputId": "b9b826d8-4482-475d-a4e3-66c5f11b30bd"
      },
      "outputs": [
        {
          "output_type": "execute_result",
          "data": {
            "text/plain": [
              "0         4\n",
              "1         3\n",
              "2         5\n",
              "3         4\n",
              "4         2\n",
              "         ..\n",
              "148144    6\n",
              "148145    4\n",
              "148146    5\n",
              "148147    4\n",
              "148148    6\n",
              "Name: publish_time_day, Length: 148149, dtype: int64"
            ]
          },
          "metadata": {},
          "execution_count": 46
        }
      ],
      "source": [
        "df['publish_time_day'] = [i.weekday() for i in df['publish_time']]\n",
        "df['publish_time_day']"
      ]
    },
    {
      "cell_type": "markdown",
      "metadata": {
        "id": "sQU7UAnqrXQy"
      },
      "source": [
        "Similarly, we employed the groupby() function to aggregate the data and group the sum of views based on the day."
      ]
    },
    {
      "cell_type": "code",
      "execution_count": null,
      "metadata": {
        "colab": {
          "base_uri": "https://localhost:8080/"
        },
        "id": "69pxpD7DSqwC",
        "outputId": "b8a8ccf7-6085-4ee3-8d2c-5355c07dda79"
      },
      "outputs": [
        {
          "output_type": "execute_result",
          "data": {
            "text/plain": [
              "publish_time_day\n",
              "0    7.334391e+10\n",
              "1    6.255452e+10\n",
              "2    6.059686e+10\n",
              "3    5.437619e+10\n",
              "4    1.135852e+11\n",
              "5    5.493073e+10\n",
              "6    6.069513e+10\n",
              "Name: view, dtype: float64"
            ]
          },
          "metadata": {},
          "execution_count": 47
        }
      ],
      "source": [
        "view_per_day = df.groupby('publish_time_day')['view'].sum()\n",
        "view_per_day"
      ]
    },
    {
      "cell_type": "markdown",
      "metadata": {
        "id": "NZyLtV6NrgS0"
      },
      "source": [
        "Finally, we plotted the data that was grouped by the day to identify the day that received the highest views."
      ]
    },
    {
      "cell_type": "code",
      "execution_count": null,
      "metadata": {
        "colab": {
          "base_uri": "https://localhost:8080/",
          "height": 452
        },
        "id": "bL_MSznSSqzV",
        "outputId": "5c0667bd-f5e3-4876-f42b-8ab32607eb49"
      },
      "outputs": [
        {
          "output_type": "display_data",
          "data": {
            "text/plain": [
              "<Figure size 640x480 with 1 Axes>"
            ],
            "image/png": "[encoded data removed]"
          },
          "metadata": {}
        }
      ],
      "source": [
        "fig, ax = plt.subplots()\n",
        "ax.plot(view_per_day)\n",
        "start, end = ax.get_xlim()\n",
        "ax.xaxis.set_ticks(np.arange(0, 7, 1))\n",
        "ax.set_title('Indonesia\\'s Trending YouTube Views per Day')\n",
        "plt.show()"
      ]
    },
    {
      "cell_type": "markdown",
      "metadata": {
        "id": "MEhGEignr3fx"
      },
      "source": [
        "In Python, the value 0 in the `weekday()` function corresponds to [Monday](https://pythontic.com/datetime/date/weekday). Based on the graph above, we can conclude that the videos uploaded on Friday received the highest number of views compared to other days."
      ]
    },
    {
      "cell_type": "markdown",
      "metadata": {
        "id": "OKN1lmMI9KXt"
      },
      "source": [
        "## 5. What is the average video duration?  \n",
        "First, we want to see the data for the duration column."
      ]
    },
    {
      "cell_type": "code",
      "execution_count": null,
      "metadata": {
        "colab": {
          "base_uri": "https://localhost:8080/"
        },
        "id": "oN_TY1HcwMEo",
        "outputId": "b3d95225-826e-49a9-a2dd-b6c489282931"
      },
      "outputs": [
        {
          "output_type": "execute_result",
          "data": {
            "text/plain": [
              "0           PT5M7S\n",
              "1         PT42M30S\n",
              "2         PT46M43S\n",
              "3         PT45M59S\n",
              "4          PT5M12S\n",
              "            ...   \n",
              "148144       PT45M\n",
              "148145      PT6M8S\n",
              "148146       PT51S\n",
              "148147     PT8M10S\n",
              "148148     PT16M5S\n",
              "Name: duration, Length: 148149, dtype: object"
            ]
          },
          "metadata": {},
          "execution_count": 49
        }
      ],
      "source": [
        "df['duration']"
      ]
    },
    {
      "cell_type": "markdown",
      "metadata": {
        "id": "Vg3wZ3squ-EZ"
      },
      "source": [
        "We notice every data contains the string 'PT', we're going to strip these to ease the parsing."
      ]
    },
    {
      "cell_type": "code",
      "execution_count": null,
      "metadata": {
        "id": "BPyu8fT2HEx9"
      },
      "outputs": [],
      "source": [
        "df['duration'] = df['duration'].apply(lambda x: str(x).strip('PT'))"
      ]
    },
    {
      "cell_type": "markdown",
      "metadata": {
        "id": "6ASqTrevu9LW"
      },
      "source": [
        "The column `duration` contains data from day to second with different combination in each row, so before we format the data to datetime we need to know every possible combination that could appear to prevent unconverted data."
      ]
    },
    {
      "cell_type": "code",
      "execution_count": null,
      "metadata": {
        "colab": {
          "base_uri": "https://localhost:8080/"
        },
        "id": "UpONr-_oUsGS",
        "outputId": "e1c3c1f3-e426-43bf-89f6-461edf1d1e37"
      },
      "outputs": [
        {
          "output_type": "stream",
          "name": "stdout",
          "text": [
            "[('D',), ('H',), ('M',), ('S',)]\n",
            "[('D', 'H'), ('D', 'M'), ('D', 'S'), ('H', 'M'), ('H', 'S'), ('M', 'S')]\n",
            "[('D', 'H', 'M'), ('D', 'H', 'S'), ('D', 'M', 'S'), ('H', 'M', 'S')]\n",
            "[('D', 'H', 'M', 'S')]\n"
          ]
        }
      ],
      "source": [
        "for i in range(1,5):\n",
        "  print(list(combinations('DHMS', i)))"
      ]
    },
    {
      "cell_type": "markdown",
      "metadata": {
        "id": "BzMN8lOXyE2s"
      },
      "source": [
        "After we find every possible combination from day to second, we make a function that loop each combination and parse the data as a datetime object for row that match the combination. Also we equalize the data to a minute format."
      ]
    },
    {
      "cell_type": "code",
      "execution_count": null,
      "metadata": {
        "id": "5Md46SGaJFCQ"
      },
      "outputs": [],
      "source": [
        "# Make a function to change the duration column values\n",
        "def duration_dt(x):\n",
        "  if ('DT' in x) & ('H' in x) & ('M' in x) & ('S' in x):\n",
        "    for i in (('DT', ':'), ('H', ':'), ('M', ':'), (\"S\", '')):\n",
        "      x = x.replace(*i)\n",
        "    days = (pd.to_datetime(x,format='%d:%H:%M:%S').day)*1440\n",
        "    hours = (pd.to_datetime(x,format='%d:%H:%M:%S').hour)*60\n",
        "    minut = pd.to_datetime(x,format='%d:%H:%M:%S').minute\n",
        "    second = (pd.to_datetime(x,format='%d:%H:%M:%S').second)/60\n",
        "    return  float(days+hours+minut+second)\n",
        "  elif ('DT' in x) & ('H' in x) & ('M' in x):\n",
        "    for i in (('DT', ':'), ('H', ':'), ('M', '')):\n",
        "      x = x.replace(*i)\n",
        "    days = (pd.to_datetime(x,format='%d:%H:%M').day)*1440\n",
        "    hours = (pd.to_datetime(x,format='%d:%H:%M').hour)*60\n",
        "    minut = pd.to_datetime(x,format='%d:%H:%M').minute\n",
        "    return  float(days+hours+minut)\n",
        "  elif ('DT' in x) & ('H' in x) & ('S' in x):\n",
        "    for i in (('DT', ':'), ('H', ':'), (\"S\", '')):\n",
        "      x = x.replace(*i)\n",
        "    days = (pd.to_datetime(x,format='%d:%H:%S').day)*1440\n",
        "    hours = (pd.to_datetime(x,format='%d:%H:%S').hour)*60\n",
        "    second = (pd.to_datetime(x,format='%d:%H:%S').second)/60\n",
        "    return  float(days+hours+second)\n",
        "  elif ('DT' in x) & ('M' in x) & ('S' in x):\n",
        "    for i in (('DT', ':'), ('M', ':'), (\"S\", '')):\n",
        "      x = x.replace(*i)\n",
        "    days = (pd.to_datetime(x,format='%d:%H:%M:%S').day)*1440\n",
        "    minut = pd.to_datetime(x,format='%d:%H:%M:%S').minute\n",
        "    second = (pd.to_datetime(x,format='%d:%H:%M:%S').second)/60\n",
        "    return  float(days+hours+minut+second)\n",
        "  elif ('DT' in x) & ('H' in x):\n",
        "    for i in (('DT', ':'), ('H', '')):\n",
        "      x = x.replace(*i)\n",
        "    days = (pd.to_datetime(x,format='%d:%H').day)*1440\n",
        "    hours = (pd.to_datetime(x,format='%d:%H').hour)*60\n",
        "    return  float(days+hours)\n",
        "  elif ('DT' in x) & ('M' in x):\n",
        "    for i in (('DT', ':'),('M', '')):\n",
        "      x = x.replace(*i)\n",
        "    days = (pd.to_datetime(x,format='%d:%M').day)*1440\n",
        "    minut = pd.to_datetime(x,format='%d:%M').minute\n",
        "    return  float(days+minut)\n",
        "  elif ('DT' in x) & ('S' in x):\n",
        "    for i in (('DT', ':'), (\"S\", '')):\n",
        "      x = x.replace(*i)\n",
        "    days = (pd.to_datetime(x,format='%d:%S').day)*1440\n",
        "    second = (pd.to_datetime(x,format='%d:%S').second)/60\n",
        "    return  float(days+hours+second)\n",
        "  elif ('H' in x) & ('M' in x) & ('S' in x):   \n",
        "    for r in ((\"H\", \":\"), (\"M\", \":\"), (\"S\", \"\")):\n",
        "      x = x.replace(*r)\n",
        "    hours = (pd.to_datetime(x,format='%H:%M:%S').hour)*60\n",
        "    minut = pd.to_datetime(x,format='%H:%M:%S').minute\n",
        "    second = (pd.to_datetime(x,format='%H:%M:%S').second)/60\n",
        "    return  float(hours+minut+second)\n",
        "  elif ('H' in x) & ('M' in x) :\n",
        "    for r in ((\"H\", \":\"), (\"M\", \"\")):\n",
        "      x = x.replace(*r)\n",
        "    hours = (pd.to_datetime(x,format='%H:%M').time().hour)*60\n",
        "    minut = pd.to_datetime(x,format='%H:%M').time().minute\n",
        "    return float(hours+minut)\n",
        "  elif ('H' in x) & ('S' in x):\n",
        "    for r in ((\"H\", \":\"), (\"S\", \"\")):\n",
        "      x = x.replace(*r)\n",
        "    hours = (pd.to_datetime(x,format='%H:%S').time().hour)*60\n",
        "    second = (pd.to_datetime(x,format='%H:%S').time().second)/60\n",
        "    return float(hours+second)\n",
        "  elif ('DT' in x) :\n",
        "    for i in (('DT', ':')):\n",
        "      x = x.replace(*i)\n",
        "    days = (pd.to_datetime(x,format='%d:%S').day)*1440\n",
        "    return  float(days)\n",
        "  elif ('H' in x):\n",
        "    for r in ((\"H\", \"\"),):\n",
        "      x = x.replace(*r)\n",
        "    return float((pd.to_datetime(x,format='%H').hour)*60)\n",
        "  elif ('M' in x) & ('S' in x):\n",
        "    for r in ((\"M\", \":\"\n",
        "    \n",
        "    ),(\"S\", \"\")):\n",
        "      x = x.replace(*r)\n",
        "    minute = pd.to_datetime(x,format='%M:%S').time().minute\n",
        "    second = (pd.to_datetime(x,format='%M:%S').time().second)/60\n",
        "    return float(minute+second)\n",
        "  elif ('M' in x):\n",
        "    for r in ((\"M\", \"\"),):\n",
        "      x = x.replace(*r)\n",
        "    return float(pd.to_datetime(x,format='%M').time().minute)\n",
        "  elif ('S' in x):\n",
        "    for r in ((\"S\", \"\"),):\n",
        "      x = x.replace(*r)\n",
        "    return float((pd.to_datetime(x,format='%S').time().second)/60)\n",
        "  else:\n",
        "    return x\n"
      ]
    },
    {
      "cell_type": "markdown",
      "metadata": {
        "id": "ObMA9CH-yk3p"
      },
      "source": [
        "Using list comprehension we apply the function to every row in `duration` then we assign to a `duration_dt` column"
      ]
    },
    {
      "cell_type": "code",
      "execution_count": null,
      "metadata": {
        "colab": {
          "base_uri": "https://localhost:8080/"
        },
        "id": "-er4wCsbF0aV",
        "outputId": "347407c8-0bad-4e32-8442-f2633f65c99f"
      },
      "outputs": [
        {
          "output_type": "execute_result",
          "data": {
            "text/plain": [
              "dtype('float64')"
            ]
          },
          "metadata": {},
          "execution_count": 53
        }
      ],
      "source": [
        "df['duration_dt'] = [duration_dt(i) for i in df['duration']]\n",
        "df['duration_dt'].dtype"
      ]
    },
    {
      "cell_type": "markdown",
      "metadata": {
        "id": "0ThnzNUE0buO"
      },
      "source": [
        "Now that the data type is 'float64' we can directly use mean() function to find the mean of duration."
      ]
    },
    {
      "cell_type": "code",
      "execution_count": null,
      "metadata": {
        "colab": {
          "base_uri": "https://localhost:8080/"
        },
        "id": "lJfYfm2IWY09",
        "outputId": "115d1fd2-6140-42ff-e862-f5c1365233d6"
      },
      "outputs": [
        {
          "output_type": "execute_result",
          "data": {
            "text/plain": [
              "19.406353513467295"
            ]
          },
          "metadata": {},
          "execution_count": 54
        }
      ],
      "source": [
        "df['duration_dt'].mean()"
      ]
    },
    {
      "cell_type": "code",
      "execution_count": null,
      "metadata": {
        "colab": {
          "base_uri": "https://localhost:8080/"
        },
        "id": "8L9Jv4e8c_YC",
        "outputId": "c4c8a762-2971-4e56-c664-a576f6d632c4"
      },
      "outputs": [
        {
          "output_type": "stream",
          "name": "stdout",
          "text": [
            "The average duration of Indonesia's Trending YouTube Video is : 19.406353513467295 minutes\n"
          ]
        }
      ],
      "source": [
        "print('The average duration of Indonesia\\'s Trending YouTube Video is :', df['duration_dt'].mean(), 'minutes') "
      ]
    },
    {
      "cell_type": "markdown",
      "metadata": {
        "id": "2gnVEsPR9KaF"
      },
      "source": [
        "##6. On average, how long after uploading will the video be marked as 'trending'?"
      ]
    },
    {
      "cell_type": "markdown",
      "source": [
        "Prior to begin our analysis, we would like to ascertain whether both columns are marked with the same timezone."
      ],
      "metadata": {
        "id": "vCmjaUljhAIg"
      }
    },
    {
      "cell_type": "code",
      "execution_count": null,
      "metadata": {
        "colab": {
          "base_uri": "https://localhost:8080/"
        },
        "id": "1rpyZlR9fZF6",
        "outputId": "18afe5ec-d818-4a44-b569-33fe55d9923a"
      },
      "outputs": [
        {
          "output_type": "stream",
          "name": "stdout",
          "text": [
            "0        2021-02-07 05:46:51.832614+00:00\n",
            "1        2021-02-07 05:46:51.832649+00:00\n",
            "2        2021-02-07 05:46:51.832664+00:00\n",
            "3        2021-02-07 05:46:51.832678+00:00\n",
            "4        2021-02-07 05:46:51.832730+00:00\n",
            "                       ...               \n",
            "148144   2023-04-18 06:04:24.338378+00:00\n",
            "148145   2023-04-18 06:04:24.338388+00:00\n",
            "148146   2023-04-18 06:04:24.338398+00:00\n",
            "148147   2023-04-18 06:04:24.338408+00:00\n",
            "148148   2023-04-18 06:04:24.338700+00:00\n",
            "Name: trending_time, Length: 148149, dtype: datetime64[ns, UTC]\n"
          ]
        }
      ],
      "source": [
        "print(df['trending_time'])"
      ]
    },
    {
      "cell_type": "code",
      "source": [
        "print(df['publish_time'])"
      ],
      "metadata": {
        "colab": {
          "base_uri": "https://localhost:8080/"
        },
        "id": "ySZL1yLog0JI",
        "outputId": "14022eb6-0d8d-4e74-ed24-50bda8304d83"
      },
      "execution_count": null,
      "outputs": [
        {
          "output_type": "stream",
          "name": "stdout",
          "text": [
            "0        2021-02-05 09:00:34\n",
            "1        2021-02-04 15:54:08\n",
            "2        2021-02-06 03:00:22\n",
            "3        2021-02-05 20:26:08\n",
            "4        2021-02-03 23:14:54\n",
            "                 ...        \n",
            "148144   2023-04-02 06:11:43\n",
            "148145   2023-03-31 11:30:10\n",
            "148146   2023-04-01 07:59:57\n",
            "148147   2023-03-31 00:00:12\n",
            "148148   2023-04-02 10:00:19\n",
            "Name: publish_time, Length: 148149, dtype: datetime64[ns]\n"
          ]
        }
      ]
    },
    {
      "cell_type": "markdown",
      "metadata": {
        "id": "dsMbMgP43QE4"
      },
      "source": [
        "We notice that the `trending_time` has a UTC timezone and the `publish_time` does not have any timezone written. \n",
        "\n",
        "So, we localize the `trending_time` using `dt.tz_localize()`.\n",
        "[`dt.tz_localize()`](https://pandas.pydata.org/docs/reference/api/pandas.Series.tz_localize.html) is a method used to localize a timezone-naive datetime object to a specific timezone.\n"
      ]
    },
    {
      "cell_type": "code",
      "execution_count": null,
      "metadata": {
        "colab": {
          "base_uri": "https://localhost:8080/"
        },
        "id": "sSlC4TbAohs9",
        "outputId": "070d2f8d-d4b0-417b-ea87-72e247cdf681"
      },
      "outputs": [
        {
          "output_type": "execute_result",
          "data": {
            "text/plain": [
              "0        2021-02-07 05:46:51.832614\n",
              "1        2021-02-07 05:46:51.832649\n",
              "2        2021-02-07 05:46:51.832664\n",
              "3        2021-02-07 05:46:51.832678\n",
              "4        2021-02-07 05:46:51.832730\n",
              "                    ...            \n",
              "148144   2023-04-18 06:04:24.338378\n",
              "148145   2023-04-18 06:04:24.338388\n",
              "148146   2023-04-18 06:04:24.338398\n",
              "148147   2023-04-18 06:04:24.338408\n",
              "148148   2023-04-18 06:04:24.338700\n",
              "Name: trending_time, Length: 148149, dtype: datetime64[ns]"
            ]
          },
          "metadata": {},
          "execution_count": 58
        }
      ],
      "source": [
        "df['trending_time'] = df['trending_time'].dt.tz_localize(None)\n",
        "df['trending_time']"
      ]
    },
    {
      "cell_type": "markdown",
      "metadata": {
        "id": "y30ezeaP4157"
      },
      "source": [
        "Once the `publish_time` and `trending_time` have been localized, we calculate the time difference between them by subtracting the `publish_time` from the `trending_time`. This allows us to determine the duration between when a video was published and when it started trending."
      ]
    },
    {
      "cell_type": "code",
      "execution_count": null,
      "metadata": {
        "colab": {
          "base_uri": "https://localhost:8080/"
        },
        "id": "dQ3pFJJDsoyx",
        "outputId": "f1b6d5f5-ebe4-4734-b25f-ad9d9b1d077a"
      },
      "outputs": [
        {
          "output_type": "execute_result",
          "data": {
            "text/plain": [
              "0         1 days 20:46:17.832614\n",
              "1         2 days 13:52:43.832649\n",
              "2         1 days 02:46:29.832664\n",
              "3         1 days 09:20:43.832678\n",
              "4         3 days 06:31:57.832730\n",
              "                   ...          \n",
              "148144   15 days 23:52:41.338378\n",
              "148145   17 days 18:34:14.338388\n",
              "148146   16 days 22:04:27.338398\n",
              "148147   18 days 06:04:12.338408\n",
              "148148   15 days 20:04:05.338700\n",
              "Name: trending_gap, Length: 148149, dtype: timedelta64[ns]"
            ]
          },
          "metadata": {},
          "execution_count": 59
        }
      ],
      "source": [
        "df['trending_gap'] = df['trending_time'] - df['publish_time']\n",
        "df['trending_gap']"
      ]
    },
    {
      "cell_type": "markdown",
      "source": [
        "From the above results, we then can call the `mean()` of the `trending_gap` column to extract the average time span for all 148,149 videos."
      ],
      "metadata": {
        "id": "qkM3JYNHYah_"
      }
    },
    {
      "cell_type": "code",
      "execution_count": null,
      "metadata": {
        "colab": {
          "base_uri": "https://localhost:8080/"
        },
        "id": "xk8nG4hYfNGy",
        "outputId": "630165fd-3284-4f45-b94f-99b6613a9b05"
      },
      "outputs": [
        {
          "output_type": "stream",
          "name": "stdout",
          "text": [
            "Average trending video require 8 days 13:14:29.559902717\n"
          ]
        }
      ],
      "source": [
        "print('Average trending video require', df['trending_gap'].mean())"
      ]
    },
    {
      "cell_type": "markdown",
      "source": [
        "The 13:14:29.559902717 refer to 13 hours 14 minutes and 29 seconds. Hence on average, we infer that a video would take 8 days, 13 hours, 14 minutes, and 29 seconds to be trending."
      ],
      "metadata": {
        "id": "7TPL9y2dtOIj"
      }
    },
    {
      "cell_type": "markdown",
      "source": [
        "# Acknowledgements and Recommendations\n",
        "The dataset was uploaded to [Kaggle](https://www.kaggle.com/datasets/syahrulhamdani/indonesias-trending-youtube-video-statistics?select=trending.csv)\n",
        " by the user [Syahrul Hamdani](https://www.kaggle.com/syahrulhamdani) around June 2022.\n",
        "\n",
        "Original data is extracted using the YouTube API. Heavily inspired by the work of @rsrishav and @datasnaek with similar dataset mentioned earlier.\n",
        "\n",
        "For future analysis, it is advisable to dig deeper into the relationship between the video's title tags and the number of views. Additionally, employing machine learning techniques to forecast upcoming trending videos on YouTube would be beneficial.\n",
        "\n",
        "\n",
        "---\n",
        "\n",
        "\n",
        "# Data License\n",
        "This data is licensed under [Creative Commons Attribution-Universal (CC0 1.0)](https://creativecommons.org/publicdomain/zero/1.0/). I hereby affirm that I do not possess any material nor monetary benefit by doing this project.\n",
        "\n",
        "![image.png](data:image/png;base64,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)"
      ],
      "metadata": {
        "id": "B2HsYz18ZIVP"
      }
    },
    {
      "cell_type": "code",
      "source": [],
      "metadata": {
        "id": "e_bAek1FwFfr"
      },
      "execution_count": null,
      "outputs": []
    }
  ],
  "metadata": {
    "colab": {
      "provenance": []
    },
    "kernelspec": {
      "display_name": "Python 3",
      "name": "python3"
    },
    "language_info": {
      "name": "python"
    }
  },
  "nbformat": 4,
  "nbformat_minor": 0
}